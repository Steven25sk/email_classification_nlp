{
 "cells": [
  {
   "cell_type": "markdown",
   "metadata": {},
   "source": [
    "# 1. Perkenalan"
   ]
  },
  {
   "cell_type": "markdown",
   "metadata": {},
   "source": [
    "- Nama : Steven Kusuma\n",
    "- Batch : 015\n",
    "- Dataset : E-Mail classification NLP (https://www.kaggle.com/datasets/datatattle/email-classification-nlp)\n",
    "- Objectives :\n",
    "\n",
    "    - Mampu memahami konsep Computer Vision/NLP.\n",
    "    - Mampu mempersiapkan data untuk digunakan dalam model Computer Vision/NLP.\n",
    "    - Mampu mengimplementasikan Artificial Neural Network dengan data yang ada.\n",
    "    - Mampu menganalisis dan menjelaskan layer yang dibuat."
   ]
  },
  {
   "cell_type": "markdown",
   "metadata": {},
   "source": [
    "# 2. Import Libraries"
   ]
  },
  {
   "cell_type": "code",
   "execution_count": 1,
   "metadata": {},
   "outputs": [],
   "source": [
    "# Import Libraries\n",
    "\n",
    "import numpy as np\n",
    "import pandas as pd\n",
    "\n",
    "# Exploratory Dataset\n",
    "\n",
    "import seaborn as sns\n",
    "import matplotlib.pyplot as plt\n",
    "import nltk\n",
    "from nltk.corpus import stopwords\n",
    "from wordcloud import WordCloud\n",
    "\n",
    "# Text Preprocessing\n",
    "\n",
    "import re\n",
    "from nltk.tokenize import word_tokenize\n",
    "import nltk.stem as stemmer\n",
    "from nltk.stem.porter import *\n",
    "\n",
    "# Metrics and Validation\n",
    "\n",
    "from sklearn.model_selection import train_test_split\n",
    "from sklearn.feature_extraction.text import CountVectorizer\n",
    "from sklearn.metrics import classification_report, confusion_matrix, accuracy_score\n",
    "\n",
    "# Embedding Layer\n",
    "\n",
    "import tensorflow as tf\n",
    "from tensorflow.keras.models import Sequential, Model\n",
    "from tensorflow.keras.layers import Embedding, TextVectorization, GlobalAveragePooling1D, Input, LSTM, GRU, Dropout, Dense\n",
    "\n",
    "from urllib import request\n",
    "from PIL import Image"
   ]
  },
  {
   "cell_type": "code",
   "execution_count": 2,
   "metadata": {},
   "outputs": [
    {
     "name": "stderr",
     "output_type": "stream",
     "text": [
      "[nltk_data] Downloading package stopwords to\n",
      "[nltk_data]     /Users/stevenkusuma/nltk_data...\n",
      "[nltk_data]   Package stopwords is already up-to-date!\n",
      "[nltk_data] Downloading package punkt to\n",
      "[nltk_data]     /Users/stevenkusuma/nltk_data...\n",
      "[nltk_data]   Package punkt is already up-to-date!\n"
     ]
    },
    {
     "data": {
      "text/plain": [
       "True"
      ]
     },
     "execution_count": 2,
     "metadata": {},
     "output_type": "execute_result"
    }
   ],
   "source": [
    "# Download Stopwords and Punkt\n",
    "\n",
    "nltk.download('stopwords')\n",
    "nltk.download('punkt')"
   ]
  },
  {
   "cell_type": "markdown",
   "metadata": {},
   "source": [
    "# 3. Data Loading"
   ]
  },
  {
   "cell_type": "code",
   "execution_count": 3,
   "metadata": {},
   "outputs": [
    {
     "data": {
      "text/html": [
       "<div>\n",
       "<style scoped>\n",
       "    .dataframe tbody tr th:only-of-type {\n",
       "        vertical-align: middle;\n",
       "    }\n",
       "\n",
       "    .dataframe tbody tr th {\n",
       "        vertical-align: top;\n",
       "    }\n",
       "\n",
       "    .dataframe thead th {\n",
       "        text-align: right;\n",
       "    }\n",
       "</style>\n",
       "<table border=\"1\" class=\"dataframe\">\n",
       "  <thead>\n",
       "    <tr style=\"text-align: right;\">\n",
       "      <th></th>\n",
       "      <th>S. No.</th>\n",
       "      <th>Message_body</th>\n",
       "      <th>Label</th>\n",
       "    </tr>\n",
       "  </thead>\n",
       "  <tbody>\n",
       "    <tr>\n",
       "      <th>0</th>\n",
       "      <td>1</td>\n",
       "      <td>Rofl. Its true to its name</td>\n",
       "      <td>Non-Spam</td>\n",
       "    </tr>\n",
       "    <tr>\n",
       "      <th>1</th>\n",
       "      <td>2</td>\n",
       "      <td>The guy did some bitching but I acted like i'd...</td>\n",
       "      <td>Non-Spam</td>\n",
       "    </tr>\n",
       "    <tr>\n",
       "      <th>2</th>\n",
       "      <td>3</td>\n",
       "      <td>Pity, * was in mood for that. So...any other s...</td>\n",
       "      <td>Non-Spam</td>\n",
       "    </tr>\n",
       "    <tr>\n",
       "      <th>3</th>\n",
       "      <td>4</td>\n",
       "      <td>Will ü b going to esplanade fr home?</td>\n",
       "      <td>Non-Spam</td>\n",
       "    </tr>\n",
       "    <tr>\n",
       "      <th>4</th>\n",
       "      <td>5</td>\n",
       "      <td>This is the 2nd time we have tried 2 contact u...</td>\n",
       "      <td>Spam</td>\n",
       "    </tr>\n",
       "    <tr>\n",
       "      <th>...</th>\n",
       "      <td>...</td>\n",
       "      <td>...</td>\n",
       "      <td>...</td>\n",
       "    </tr>\n",
       "    <tr>\n",
       "      <th>952</th>\n",
       "      <td>953</td>\n",
       "      <td>hows my favourite person today? r u workin har...</td>\n",
       "      <td>Non-Spam</td>\n",
       "    </tr>\n",
       "    <tr>\n",
       "      <th>953</th>\n",
       "      <td>954</td>\n",
       "      <td>How much you got for cleaning</td>\n",
       "      <td>Non-Spam</td>\n",
       "    </tr>\n",
       "    <tr>\n",
       "      <th>954</th>\n",
       "      <td>955</td>\n",
       "      <td>Sorry da. I gone mad so many pending works wha...</td>\n",
       "      <td>Non-Spam</td>\n",
       "    </tr>\n",
       "    <tr>\n",
       "      <th>955</th>\n",
       "      <td>956</td>\n",
       "      <td>Wat time ü finish?</td>\n",
       "      <td>Non-Spam</td>\n",
       "    </tr>\n",
       "    <tr>\n",
       "      <th>956</th>\n",
       "      <td>957</td>\n",
       "      <td>Just glad to be talking to you.</td>\n",
       "      <td>Non-Spam</td>\n",
       "    </tr>\n",
       "  </tbody>\n",
       "</table>\n",
       "<p>957 rows × 3 columns</p>\n",
       "</div>"
      ],
      "text/plain": [
       "     S. No.                                       Message_body     Label\n",
       "0         1                         Rofl. Its true to its name  Non-Spam\n",
       "1         2  The guy did some bitching but I acted like i'd...  Non-Spam\n",
       "2         3  Pity, * was in mood for that. So...any other s...  Non-Spam\n",
       "3         4               Will ü b going to esplanade fr home?  Non-Spam\n",
       "4         5  This is the 2nd time we have tried 2 contact u...      Spam\n",
       "..      ...                                                ...       ...\n",
       "952     953  hows my favourite person today? r u workin har...  Non-Spam\n",
       "953     954                      How much you got for cleaning  Non-Spam\n",
       "954     955  Sorry da. I gone mad so many pending works wha...  Non-Spam\n",
       "955     956                                 Wat time ü finish?  Non-Spam\n",
       "956     957                    Just glad to be talking to you.  Non-Spam\n",
       "\n",
       "[957 rows x 3 columns]"
      ]
     },
     "execution_count": 3,
     "metadata": {},
     "output_type": "execute_result"
    }
   ],
   "source": [
    "# Load Dataset\n",
    "\n",
    "data1 = pd.read_csv('SMS_train.csv',encoding='cp1252')\n",
    "data1"
   ]
  },
  {
   "cell_type": "code",
   "execution_count": 4,
   "metadata": {},
   "outputs": [
    {
     "data": {
      "text/html": [
       "<div>\n",
       "<style scoped>\n",
       "    .dataframe tbody tr th:only-of-type {\n",
       "        vertical-align: middle;\n",
       "    }\n",
       "\n",
       "    .dataframe tbody tr th {\n",
       "        vertical-align: top;\n",
       "    }\n",
       "\n",
       "    .dataframe thead th {\n",
       "        text-align: right;\n",
       "    }\n",
       "</style>\n",
       "<table border=\"1\" class=\"dataframe\">\n",
       "  <thead>\n",
       "    <tr style=\"text-align: right;\">\n",
       "      <th></th>\n",
       "      <th>S. No.</th>\n",
       "      <th>Message_body</th>\n",
       "      <th>Label</th>\n",
       "    </tr>\n",
       "  </thead>\n",
       "  <tbody>\n",
       "    <tr>\n",
       "      <th>0</th>\n",
       "      <td>1</td>\n",
       "      <td>UpgrdCentre Orange customer, you may now claim...</td>\n",
       "      <td>Spam</td>\n",
       "    </tr>\n",
       "    <tr>\n",
       "      <th>1</th>\n",
       "      <td>2</td>\n",
       "      <td>Loan for any purpose £500 - £75,000. Homeowner...</td>\n",
       "      <td>Spam</td>\n",
       "    </tr>\n",
       "    <tr>\n",
       "      <th>2</th>\n",
       "      <td>3</td>\n",
       "      <td>Congrats! Nokia 3650 video camera phone is you...</td>\n",
       "      <td>Spam</td>\n",
       "    </tr>\n",
       "    <tr>\n",
       "      <th>3</th>\n",
       "      <td>4</td>\n",
       "      <td>URGENT! Your Mobile number has been awarded wi...</td>\n",
       "      <td>Spam</td>\n",
       "    </tr>\n",
       "    <tr>\n",
       "      <th>4</th>\n",
       "      <td>5</td>\n",
       "      <td>Someone has contacted our dating service and e...</td>\n",
       "      <td>Spam</td>\n",
       "    </tr>\n",
       "    <tr>\n",
       "      <th>...</th>\n",
       "      <td>...</td>\n",
       "      <td>...</td>\n",
       "      <td>...</td>\n",
       "    </tr>\n",
       "    <tr>\n",
       "      <th>120</th>\n",
       "      <td>121</td>\n",
       "      <td>7 wonders in My WORLD 7th You 6th Ur style 5th...</td>\n",
       "      <td>Non-Spam</td>\n",
       "    </tr>\n",
       "    <tr>\n",
       "      <th>121</th>\n",
       "      <td>122</td>\n",
       "      <td>Try to do something dear. You read something f...</td>\n",
       "      <td>Non-Spam</td>\n",
       "    </tr>\n",
       "    <tr>\n",
       "      <th>122</th>\n",
       "      <td>123</td>\n",
       "      <td>Sun ah... Thk mayb can if dun have anythin on....</td>\n",
       "      <td>Non-Spam</td>\n",
       "    </tr>\n",
       "    <tr>\n",
       "      <th>123</th>\n",
       "      <td>124</td>\n",
       "      <td>SYMPTOMS when U are in love: \"1.U like listeni...</td>\n",
       "      <td>Non-Spam</td>\n",
       "    </tr>\n",
       "    <tr>\n",
       "      <th>124</th>\n",
       "      <td>125</td>\n",
       "      <td>Great. Have a safe trip. Dont panic surrender ...</td>\n",
       "      <td>Non-Spam</td>\n",
       "    </tr>\n",
       "  </tbody>\n",
       "</table>\n",
       "<p>125 rows × 3 columns</p>\n",
       "</div>"
      ],
      "text/plain": [
       "     S. No.                                       Message_body     Label\n",
       "0         1  UpgrdCentre Orange customer, you may now claim...      Spam\n",
       "1         2  Loan for any purpose £500 - £75,000. Homeowner...      Spam\n",
       "2         3  Congrats! Nokia 3650 video camera phone is you...      Spam\n",
       "3         4  URGENT! Your Mobile number has been awarded wi...      Spam\n",
       "4         5  Someone has contacted our dating service and e...      Spam\n",
       "..      ...                                                ...       ...\n",
       "120     121  7 wonders in My WORLD 7th You 6th Ur style 5th...  Non-Spam\n",
       "121     122  Try to do something dear. You read something f...  Non-Spam\n",
       "122     123  Sun ah... Thk mayb can if dun have anythin on....  Non-Spam\n",
       "123     124  SYMPTOMS when U are in love: \"1.U like listeni...  Non-Spam\n",
       "124     125  Great. Have a safe trip. Dont panic surrender ...  Non-Spam\n",
       "\n",
       "[125 rows x 3 columns]"
      ]
     },
     "execution_count": 4,
     "metadata": {},
     "output_type": "execute_result"
    }
   ],
   "source": [
    "# Load Dataset\n",
    "\n",
    "data2 = pd.read_csv('SMS_test.csv',encoding='cp1252')\n",
    "data2"
   ]
  },
  {
   "cell_type": "code",
   "execution_count": 5,
   "metadata": {},
   "outputs": [
    {
     "data": {
      "text/html": [
       "<div>\n",
       "<style scoped>\n",
       "    .dataframe tbody tr th:only-of-type {\n",
       "        vertical-align: middle;\n",
       "    }\n",
       "\n",
       "    .dataframe tbody tr th {\n",
       "        vertical-align: top;\n",
       "    }\n",
       "\n",
       "    .dataframe thead th {\n",
       "        text-align: right;\n",
       "    }\n",
       "</style>\n",
       "<table border=\"1\" class=\"dataframe\">\n",
       "  <thead>\n",
       "    <tr style=\"text-align: right;\">\n",
       "      <th></th>\n",
       "      <th>Message_body</th>\n",
       "      <th>Label</th>\n",
       "    </tr>\n",
       "  </thead>\n",
       "  <tbody>\n",
       "    <tr>\n",
       "      <th>0</th>\n",
       "      <td>Rofl. Its true to its name</td>\n",
       "      <td>Non-Spam</td>\n",
       "    </tr>\n",
       "    <tr>\n",
       "      <th>1</th>\n",
       "      <td>The guy did some bitching but I acted like i'd...</td>\n",
       "      <td>Non-Spam</td>\n",
       "    </tr>\n",
       "    <tr>\n",
       "      <th>2</th>\n",
       "      <td>Pity, * was in mood for that. So...any other s...</td>\n",
       "      <td>Non-Spam</td>\n",
       "    </tr>\n",
       "    <tr>\n",
       "      <th>3</th>\n",
       "      <td>Will ü b going to esplanade fr home?</td>\n",
       "      <td>Non-Spam</td>\n",
       "    </tr>\n",
       "    <tr>\n",
       "      <th>4</th>\n",
       "      <td>This is the 2nd time we have tried 2 contact u...</td>\n",
       "      <td>Spam</td>\n",
       "    </tr>\n",
       "    <tr>\n",
       "      <th>...</th>\n",
       "      <td>...</td>\n",
       "      <td>...</td>\n",
       "    </tr>\n",
       "    <tr>\n",
       "      <th>1077</th>\n",
       "      <td>7 wonders in My WORLD 7th You 6th Ur style 5th...</td>\n",
       "      <td>Non-Spam</td>\n",
       "    </tr>\n",
       "    <tr>\n",
       "      <th>1078</th>\n",
       "      <td>Try to do something dear. You read something f...</td>\n",
       "      <td>Non-Spam</td>\n",
       "    </tr>\n",
       "    <tr>\n",
       "      <th>1079</th>\n",
       "      <td>Sun ah... Thk mayb can if dun have anythin on....</td>\n",
       "      <td>Non-Spam</td>\n",
       "    </tr>\n",
       "    <tr>\n",
       "      <th>1080</th>\n",
       "      <td>SYMPTOMS when U are in love: \"1.U like listeni...</td>\n",
       "      <td>Non-Spam</td>\n",
       "    </tr>\n",
       "    <tr>\n",
       "      <th>1081</th>\n",
       "      <td>Great. Have a safe trip. Dont panic surrender ...</td>\n",
       "      <td>Non-Spam</td>\n",
       "    </tr>\n",
       "  </tbody>\n",
       "</table>\n",
       "<p>1082 rows × 2 columns</p>\n",
       "</div>"
      ],
      "text/plain": [
       "                                           Message_body     Label\n",
       "0                            Rofl. Its true to its name  Non-Spam\n",
       "1     The guy did some bitching but I acted like i'd...  Non-Spam\n",
       "2     Pity, * was in mood for that. So...any other s...  Non-Spam\n",
       "3                  Will ü b going to esplanade fr home?  Non-Spam\n",
       "4     This is the 2nd time we have tried 2 contact u...      Spam\n",
       "...                                                 ...       ...\n",
       "1077  7 wonders in My WORLD 7th You 6th Ur style 5th...  Non-Spam\n",
       "1078  Try to do something dear. You read something f...  Non-Spam\n",
       "1079  Sun ah... Thk mayb can if dun have anythin on....  Non-Spam\n",
       "1080  SYMPTOMS when U are in love: \"1.U like listeni...  Non-Spam\n",
       "1081  Great. Have a safe trip. Dont panic surrender ...  Non-Spam\n",
       "\n",
       "[1082 rows x 2 columns]"
      ]
     },
     "execution_count": 5,
     "metadata": {},
     "output_type": "execute_result"
    }
   ],
   "source": [
    "# Concat Splitted Dataset\n",
    "\n",
    "data = pd.concat([data1, data2]).reset_index(drop=True)\n",
    "data = data.iloc[: , 1:]\n",
    "data"
   ]
  },
  {
   "cell_type": "markdown",
   "metadata": {},
   "source": [
    "Concat data, nanti akan dilakukan splitting ulang di `data preprocessing`."
   ]
  },
  {
   "cell_type": "code",
   "execution_count": 6,
   "metadata": {},
   "outputs": [
    {
     "data": {
      "text/html": [
       "<div>\n",
       "<style scoped>\n",
       "    .dataframe tbody tr th:only-of-type {\n",
       "        vertical-align: middle;\n",
       "    }\n",
       "\n",
       "    .dataframe tbody tr th {\n",
       "        vertical-align: top;\n",
       "    }\n",
       "\n",
       "    .dataframe thead th {\n",
       "        text-align: right;\n",
       "    }\n",
       "</style>\n",
       "<table border=\"1\" class=\"dataframe\">\n",
       "  <thead>\n",
       "    <tr style=\"text-align: right;\">\n",
       "      <th></th>\n",
       "      <th>Message_body</th>\n",
       "      <th>Label</th>\n",
       "    </tr>\n",
       "  </thead>\n",
       "  <tbody>\n",
       "    <tr>\n",
       "      <th>0</th>\n",
       "      <td>Rofl. Its true to its name</td>\n",
       "      <td>Non-Spam</td>\n",
       "    </tr>\n",
       "    <tr>\n",
       "      <th>1</th>\n",
       "      <td>The guy did some bitching but I acted like i'd...</td>\n",
       "      <td>Non-Spam</td>\n",
       "    </tr>\n",
       "    <tr>\n",
       "      <th>2</th>\n",
       "      <td>Pity, * was in mood for that. So...any other s...</td>\n",
       "      <td>Non-Spam</td>\n",
       "    </tr>\n",
       "    <tr>\n",
       "      <th>3</th>\n",
       "      <td>Will ü b going to esplanade fr home?</td>\n",
       "      <td>Non-Spam</td>\n",
       "    </tr>\n",
       "    <tr>\n",
       "      <th>4</th>\n",
       "      <td>This is the 2nd time we have tried 2 contact u...</td>\n",
       "      <td>Spam</td>\n",
       "    </tr>\n",
       "  </tbody>\n",
       "</table>\n",
       "</div>"
      ],
      "text/plain": [
       "                                        Message_body     Label\n",
       "0                         Rofl. Its true to its name  Non-Spam\n",
       "1  The guy did some bitching but I acted like i'd...  Non-Spam\n",
       "2  Pity, * was in mood for that. So...any other s...  Non-Spam\n",
       "3               Will ü b going to esplanade fr home?  Non-Spam\n",
       "4  This is the 2nd time we have tried 2 contact u...      Spam"
      ]
     },
     "execution_count": 6,
     "metadata": {},
     "output_type": "execute_result"
    }
   ],
   "source": [
    "data.head()"
   ]
  },
  {
   "cell_type": "code",
   "execution_count": 7,
   "metadata": {},
   "outputs": [
    {
     "data": {
      "text/html": [
       "<div>\n",
       "<style scoped>\n",
       "    .dataframe tbody tr th:only-of-type {\n",
       "        vertical-align: middle;\n",
       "    }\n",
       "\n",
       "    .dataframe tbody tr th {\n",
       "        vertical-align: top;\n",
       "    }\n",
       "\n",
       "    .dataframe thead th {\n",
       "        text-align: right;\n",
       "    }\n",
       "</style>\n",
       "<table border=\"1\" class=\"dataframe\">\n",
       "  <thead>\n",
       "    <tr style=\"text-align: right;\">\n",
       "      <th></th>\n",
       "      <th>Message_body</th>\n",
       "      <th>Label</th>\n",
       "    </tr>\n",
       "  </thead>\n",
       "  <tbody>\n",
       "    <tr>\n",
       "      <th>1077</th>\n",
       "      <td>7 wonders in My WORLD 7th You 6th Ur style 5th...</td>\n",
       "      <td>Non-Spam</td>\n",
       "    </tr>\n",
       "    <tr>\n",
       "      <th>1078</th>\n",
       "      <td>Try to do something dear. You read something f...</td>\n",
       "      <td>Non-Spam</td>\n",
       "    </tr>\n",
       "    <tr>\n",
       "      <th>1079</th>\n",
       "      <td>Sun ah... Thk mayb can if dun have anythin on....</td>\n",
       "      <td>Non-Spam</td>\n",
       "    </tr>\n",
       "    <tr>\n",
       "      <th>1080</th>\n",
       "      <td>SYMPTOMS when U are in love: \"1.U like listeni...</td>\n",
       "      <td>Non-Spam</td>\n",
       "    </tr>\n",
       "    <tr>\n",
       "      <th>1081</th>\n",
       "      <td>Great. Have a safe trip. Dont panic surrender ...</td>\n",
       "      <td>Non-Spam</td>\n",
       "    </tr>\n",
       "  </tbody>\n",
       "</table>\n",
       "</div>"
      ],
      "text/plain": [
       "                                           Message_body     Label\n",
       "1077  7 wonders in My WORLD 7th You 6th Ur style 5th...  Non-Spam\n",
       "1078  Try to do something dear. You read something f...  Non-Spam\n",
       "1079  Sun ah... Thk mayb can if dun have anythin on....  Non-Spam\n",
       "1080  SYMPTOMS when U are in love: \"1.U like listeni...  Non-Spam\n",
       "1081  Great. Have a safe trip. Dont panic surrender ...  Non-Spam"
      ]
     },
     "execution_count": 7,
     "metadata": {},
     "output_type": "execute_result"
    }
   ],
   "source": [
    "data.tail()"
   ]
  },
  {
   "cell_type": "code",
   "execution_count": 8,
   "metadata": {},
   "outputs": [
    {
     "name": "stdout",
     "output_type": "stream",
     "text": [
      "<class 'pandas.core.frame.DataFrame'>\n",
      "RangeIndex: 1082 entries, 0 to 1081\n",
      "Data columns (total 2 columns):\n",
      " #   Column        Non-Null Count  Dtype \n",
      "---  ------        --------------  ----- \n",
      " 0   Message_body  1082 non-null   object\n",
      " 1   Label         1082 non-null   object\n",
      "dtypes: object(2)\n",
      "memory usage: 17.0+ KB\n"
     ]
    }
   ],
   "source": [
    "# Check Dataset - 1\n",
    "\n",
    "data.info()"
   ]
  },
  {
   "cell_type": "markdown",
   "metadata": {},
   "source": [
    "Data terdiri dari `1,082 rows` dan `2 columns` :\n",
    "\n",
    "- `2 String`"
   ]
  },
  {
   "cell_type": "markdown",
   "metadata": {},
   "source": [
    "# 4. Exploratory Data Analysis (EDA)"
   ]
  },
  {
   "cell_type": "code",
   "execution_count": 9,
   "metadata": {},
   "outputs": [
    {
     "data": {
      "text/plain": [
       "<AxesSubplot:ylabel='Label'>"
      ]
     },
     "execution_count": 9,
     "metadata": {},
     "output_type": "execute_result"
    },
    {
     "data": {
      "image/png": "[encoded data removed]",
      "text/plain": [
       "<Figure size 360x360 with 1 Axes>"
      ]
     },
     "metadata": {},
     "output_type": "display_data"
    }
   ],
   "source": [
    "# Create Pie Chart to know spam and non-spam distribution\n",
    "\n",
    "data['Label'].value_counts().plot(kind='pie', autopct='%1.0f%%',\n",
    "                                  shadow=True,\n",
    "                                  startangle=90,\n",
    "                                  pctdistance=0.8,\n",
    "                                  explode= (0.1,0.1),\n",
    "                                  colors=['#e216d9', '#16e261'],\n",
    "                                  figsize=(5,5))"
   ]
  },
  {
   "cell_type": "markdown",
   "metadata": {},
   "source": [
    "`18%` dari total label adalah `Spam`, dan sisanya `82%` dari total label adalah `Non-Spam`. Ditemukan data imbalance."
   ]
  },
  {
   "cell_type": "code",
   "execution_count": 10,
   "metadata": {},
   "outputs": [
    {
     "name": "stdout",
     "output_type": "stream",
     "text": [
      "\n",
      "\n",
      "Word Cloud for Non-Spam\n",
      "\n",
      "\n"
     ]
    },
    {
     "data": {
      "image/png": "[encoded data removed]",
      "text/plain": [
       "<Figure size 1152x576 with 1 Axes>"
      ]
     },
     "metadata": {
      "needs_background": "light"
     },
     "output_type": "display_data"
    },
    {
     "name": "stdout",
     "output_type": "stream",
     "text": [
      "\n",
      "\n",
      "Word Cloud for Spam\n",
      "\n",
      "\n"
     ]
    },
    {
     "data": {
      "image/png": "[encoded data removed]",
      "text/plain": [
       "<Figure size 1152x576 with 1 Axes>"
      ]
     },
     "metadata": {
      "needs_background": "light"
     },
     "output_type": "display_data"
    }
   ],
   "source": [
    "# Generating WordCloud for Stopwords of each label\n",
    "\n",
    "Message_body = data['Message_body']\n",
    "\n",
    "\n",
    "# Non-Spam WordCloud\n",
    "data_not_spam = data.loc[data['Label']=='Non-Spam']\n",
    "\n",
    "#===\n",
    "Message_body_non_spam = \" \".join(insul for insul in data_not_spam.Message_body)\n",
    "\n",
    "l_mask = np.array(Image.open(\"up.jpeg\"))\n",
    "\n",
    "#== \n",
    "wc1 = WordCloud(background_color='black', mask=l_mask, mode='RGB',\n",
    "               width=500, max_words=100, height=500,\n",
    "               random_state=1, contour_width=1, contour_color='green',colormap='Spectral')\n",
    "               \n",
    "print('\\n\\nWord Cloud for Non-Spam\\n\\n')\n",
    "wc1.generate(Message_body_non_spam)\n",
    "plt.figure(figsize=(16, 8))\n",
    "plt.imshow(wc1, interpolation='bilinear')\n",
    "plt.axis('off')\n",
    "plt.show()\n",
    "\n",
    "#------------------------------------------------------------------------------------------------\n",
    "\n",
    "\n",
    "# Spam WordCloud\n",
    "data_spam = data.loc[data['Label']=='Spam']\n",
    "\n",
    "#===\n",
    "Message_body_spam = \" \".join(insul for insul in data_spam.Message_body)\n",
    "\n",
    "r_mask = np.array(Image.open(\"down.jpeg\"))\n",
    "\n",
    "#== \n",
    "wc2 = WordCloud(background_color='black', mask=r_mask, mode='RGB',\n",
    "               width=500, max_words=100, height=500,\n",
    "               random_state=1, contour_width=1, contour_color='red',colormap='Spectral')\n",
    "\n",
    "print('\\n\\nWord Cloud for Spam\\n\\n')           \n",
    "wc2.generate(Message_body_spam)\n",
    "plt.figure(figsize=(16, 8))\n",
    "plt.imshow(wc2, interpolation='bilinear')\n",
    "plt.axis('off')\n",
    "plt.show()"
   ]
  },
  {
   "cell_type": "markdown",
   "metadata": {},
   "source": [
    "Berikut adalah `WordCloud` untuk text sesuai masing-masing label, yaitu `Spam` dan `Non-Spam` email.\n",
    "\n",
    "Di masing-masing gambar terdapat `100 kata` WordCloud untuk masing-masing label.\n",
    "\n",
    "`WordCloud` dibuat untuk lebih memprioritaskan kata-kata lain selain yang diatas.\n",
    "\n",
    "Dimana :\n",
    "\n",
    "- Thumbs up : `Non-Spam`\n",
    "- Thumbs down : `Spam`"
   ]
  },
  {
   "cell_type": "code",
   "execution_count": 11,
   "metadata": {},
   "outputs": [
    {
     "data": {
      "text/plain": [
       "<AxesSubplot:>"
      ]
     },
     "execution_count": 11,
     "metadata": {},
     "output_type": "execute_result"
    },
    {
     "data": {
      "image/png": "[encoded data removed]",
      "text/plain": [
       "<Figure size 432x288 with 1 Axes>"
      ]
     },
     "metadata": {
      "needs_background": "light"
     },
     "output_type": "display_data"
    }
   ],
   "source": [
    "data['Message_body'].str.len().hist()"
   ]
  },
  {
   "cell_type": "markdown",
   "metadata": {},
   "source": [
    "Range characters per kalimat di `Message_body` ada di `0 - 400` characters, dan generally di antara sekitar `0 - 175` characters."
   ]
  },
  {
   "cell_type": "code",
   "execution_count": 12,
   "metadata": {},
   "outputs": [
    {
     "data": {
      "text/plain": [
       "<AxesSubplot:>"
      ]
     },
     "execution_count": 12,
     "metadata": {},
     "output_type": "execute_result"
    },
    {
     "data": {
      "image/png": "[encoded data removed]",
      "text/plain": [
       "<Figure size 432x288 with 1 Axes>"
      ]
     },
     "metadata": {
      "needs_background": "light"
     },
     "output_type": "display_data"
    }
   ],
   "source": [
    "Message_body.str.split().\\\n",
    "    map(lambda x: len(x)).\\\n",
    "    hist()"
   ]
  },
  {
   "cell_type": "markdown",
   "metadata": {},
   "source": [
    "Range kata per kalimat di `Message_body` ada di `0 - 90` kata, dan generally di antara sekitar `0 - 40` kata."
   ]
  },
  {
   "cell_type": "markdown",
   "metadata": {},
   "source": [
    "# 5. Data Preprocessing"
   ]
  },
  {
   "cell_type": "markdown",
   "metadata": {},
   "source": [
    "## 5.1. Convert Target"
   ]
  },
  {
   "cell_type": "code",
   "execution_count": 13,
   "metadata": {},
   "outputs": [],
   "source": [
    "data['Label'] =  data['Label'].map({\"Non-Spam\":0,\"Spam\":1})"
   ]
  },
  {
   "cell_type": "markdown",
   "metadata": {},
   "source": [
    "Melabelkan antara :\n",
    "\n",
    "- Non-Spam = 0\n",
    "- Spam = 1"
   ]
  },
  {
   "cell_type": "markdown",
   "metadata": {},
   "source": [
    "## 5.2. Get Data for Model Inference"
   ]
  },
  {
   "cell_type": "code",
   "execution_count": 14,
   "metadata": {},
   "outputs": [
    {
     "data": {
      "text/html": [
       "<div>\n",
       "<style scoped>\n",
       "    .dataframe tbody tr th:only-of-type {\n",
       "        vertical-align: middle;\n",
       "    }\n",
       "\n",
       "    .dataframe tbody tr th {\n",
       "        vertical-align: top;\n",
       "    }\n",
       "\n",
       "    .dataframe thead th {\n",
       "        text-align: right;\n",
       "    }\n",
       "</style>\n",
       "<table border=\"1\" class=\"dataframe\">\n",
       "  <thead>\n",
       "    <tr style=\"text-align: right;\">\n",
       "      <th></th>\n",
       "      <th>Message_body</th>\n",
       "      <th>Label</th>\n",
       "    </tr>\n",
       "  </thead>\n",
       "  <tbody>\n",
       "    <tr>\n",
       "      <th>554</th>\n",
       "      <td>U attend ur driving lesson how many times a wk...</td>\n",
       "      <td>0</td>\n",
       "    </tr>\n",
       "    <tr>\n",
       "      <th>113</th>\n",
       "      <td>Arun can u transfr me d amt</td>\n",
       "      <td>0</td>\n",
       "    </tr>\n",
       "    <tr>\n",
       "      <th>585</th>\n",
       "      <td>I said its okay. Sorry</td>\n",
       "      <td>0</td>\n",
       "    </tr>\n",
       "    <tr>\n",
       "      <th>1070</th>\n",
       "      <td>How much u trying to get?</td>\n",
       "      <td>0</td>\n",
       "    </tr>\n",
       "    <tr>\n",
       "      <th>273</th>\n",
       "      <td>Are u coming to the funeral home</td>\n",
       "      <td>0</td>\n",
       "    </tr>\n",
       "    <tr>\n",
       "      <th>123</th>\n",
       "      <td>So that takes away some money worries</td>\n",
       "      <td>0</td>\n",
       "    </tr>\n",
       "    <tr>\n",
       "      <th>443</th>\n",
       "      <td>After my work ah... Den 6 plus lor... U workin...</td>\n",
       "      <td>0</td>\n",
       "    </tr>\n",
       "    <tr>\n",
       "      <th>189</th>\n",
       "      <td>You have 1 new message. Call 0207-083-6089</td>\n",
       "      <td>1</td>\n",
       "    </tr>\n",
       "    <tr>\n",
       "      <th>616</th>\n",
       "      <td>Hi its me you are probably having too much fun...</td>\n",
       "      <td>0</td>\n",
       "    </tr>\n",
       "    <tr>\n",
       "      <th>119</th>\n",
       "      <td>Just sing HU. I think its also important to fi...</td>\n",
       "      <td>0</td>\n",
       "    </tr>\n",
       "  </tbody>\n",
       "</table>\n",
       "</div>"
      ],
      "text/plain": [
       "                                           Message_body  Label\n",
       "554   U attend ur driving lesson how many times a wk...      0\n",
       "113                         Arun can u transfr me d amt      0\n",
       "585                              I said its okay. Sorry      0\n",
       "1070                          How much u trying to get?      0\n",
       "273                    Are u coming to the funeral home      0\n",
       "123               So that takes away some money worries      0\n",
       "443   After my work ah... Den 6 plus lor... U workin...      0\n",
       "189          You have 1 new message. Call 0207-083-6089      1\n",
       "616   Hi its me you are probably having too much fun...      0\n",
       "119   Just sing HU. I think its also important to fi...      0"
      ]
     },
     "execution_count": 14,
     "metadata": {},
     "output_type": "execute_result"
    }
   ],
   "source": [
    "# Get Data for model Inference\n",
    "\n",
    "data_inf = data.sample(10, random_state=25)\n",
    "data_inf"
   ]
  },
  {
   "cell_type": "code",
   "execution_count": 15,
   "metadata": {},
   "outputs": [
    {
     "data": {
      "text/html": [
       "<div>\n",
       "<style scoped>\n",
       "    .dataframe tbody tr th:only-of-type {\n",
       "        vertical-align: middle;\n",
       "    }\n",
       "\n",
       "    .dataframe tbody tr th {\n",
       "        vertical-align: top;\n",
       "    }\n",
       "\n",
       "    .dataframe thead th {\n",
       "        text-align: right;\n",
       "    }\n",
       "</style>\n",
       "<table border=\"1\" class=\"dataframe\">\n",
       "  <thead>\n",
       "    <tr style=\"text-align: right;\">\n",
       "      <th></th>\n",
       "      <th>Message_body</th>\n",
       "      <th>Label</th>\n",
       "    </tr>\n",
       "  </thead>\n",
       "  <tbody>\n",
       "    <tr>\n",
       "      <th>0</th>\n",
       "      <td>Rofl. Its true to its name</td>\n",
       "      <td>0</td>\n",
       "    </tr>\n",
       "    <tr>\n",
       "      <th>1</th>\n",
       "      <td>The guy did some bitching but I acted like i'd...</td>\n",
       "      <td>0</td>\n",
       "    </tr>\n",
       "    <tr>\n",
       "      <th>2</th>\n",
       "      <td>Pity, * was in mood for that. So...any other s...</td>\n",
       "      <td>0</td>\n",
       "    </tr>\n",
       "    <tr>\n",
       "      <th>3</th>\n",
       "      <td>Will ü b going to esplanade fr home?</td>\n",
       "      <td>0</td>\n",
       "    </tr>\n",
       "    <tr>\n",
       "      <th>4</th>\n",
       "      <td>This is the 2nd time we have tried 2 contact u...</td>\n",
       "      <td>1</td>\n",
       "    </tr>\n",
       "    <tr>\n",
       "      <th>...</th>\n",
       "      <td>...</td>\n",
       "      <td>...</td>\n",
       "    </tr>\n",
       "    <tr>\n",
       "      <th>1077</th>\n",
       "      <td>7 wonders in My WORLD 7th You 6th Ur style 5th...</td>\n",
       "      <td>0</td>\n",
       "    </tr>\n",
       "    <tr>\n",
       "      <th>1078</th>\n",
       "      <td>Try to do something dear. You read something f...</td>\n",
       "      <td>0</td>\n",
       "    </tr>\n",
       "    <tr>\n",
       "      <th>1079</th>\n",
       "      <td>Sun ah... Thk mayb can if dun have anythin on....</td>\n",
       "      <td>0</td>\n",
       "    </tr>\n",
       "    <tr>\n",
       "      <th>1080</th>\n",
       "      <td>SYMPTOMS when U are in love: \"1.U like listeni...</td>\n",
       "      <td>0</td>\n",
       "    </tr>\n",
       "    <tr>\n",
       "      <th>1081</th>\n",
       "      <td>Great. Have a safe trip. Dont panic surrender ...</td>\n",
       "      <td>0</td>\n",
       "    </tr>\n",
       "  </tbody>\n",
       "</table>\n",
       "<p>1072 rows × 2 columns</p>\n",
       "</div>"
      ],
      "text/plain": [
       "                                           Message_body  Label\n",
       "0                            Rofl. Its true to its name      0\n",
       "1     The guy did some bitching but I acted like i'd...      0\n",
       "2     Pity, * was in mood for that. So...any other s...      0\n",
       "3                  Will ü b going to esplanade fr home?      0\n",
       "4     This is the 2nd time we have tried 2 contact u...      1\n",
       "...                                                 ...    ...\n",
       "1077  7 wonders in My WORLD 7th You 6th Ur style 5th...      0\n",
       "1078  Try to do something dear. You read something f...      0\n",
       "1079  Sun ah... Thk mayb can if dun have anythin on....      0\n",
       "1080  SYMPTOMS when U are in love: \"1.U like listeni...      0\n",
       "1081  Great. Have a safe trip. Dont panic surrender ...      0\n",
       "\n",
       "[1072 rows x 2 columns]"
      ]
     },
     "execution_count": 15,
     "metadata": {},
     "output_type": "execute_result"
    }
   ],
   "source": [
    "# Remove Inference-Set from Dataset\n",
    "\n",
    "data_train_test = data.drop(data_inf.index)\n",
    "data_train_test"
   ]
  },
  {
   "cell_type": "code",
   "execution_count": 16,
   "metadata": {},
   "outputs": [
    {
     "data": {
      "text/html": [
       "<div>\n",
       "<style scoped>\n",
       "    .dataframe tbody tr th:only-of-type {\n",
       "        vertical-align: middle;\n",
       "    }\n",
       "\n",
       "    .dataframe tbody tr th {\n",
       "        vertical-align: top;\n",
       "    }\n",
       "\n",
       "    .dataframe thead th {\n",
       "        text-align: right;\n",
       "    }\n",
       "</style>\n",
       "<table border=\"1\" class=\"dataframe\">\n",
       "  <thead>\n",
       "    <tr style=\"text-align: right;\">\n",
       "      <th></th>\n",
       "      <th>Message_body</th>\n",
       "      <th>Label</th>\n",
       "    </tr>\n",
       "  </thead>\n",
       "  <tbody>\n",
       "    <tr>\n",
       "      <th>0</th>\n",
       "      <td>U attend ur driving lesson how many times a wk...</td>\n",
       "      <td>0</td>\n",
       "    </tr>\n",
       "    <tr>\n",
       "      <th>1</th>\n",
       "      <td>Arun can u transfr me d amt</td>\n",
       "      <td>0</td>\n",
       "    </tr>\n",
       "    <tr>\n",
       "      <th>2</th>\n",
       "      <td>I said its okay. Sorry</td>\n",
       "      <td>0</td>\n",
       "    </tr>\n",
       "    <tr>\n",
       "      <th>3</th>\n",
       "      <td>How much u trying to get?</td>\n",
       "      <td>0</td>\n",
       "    </tr>\n",
       "    <tr>\n",
       "      <th>4</th>\n",
       "      <td>Are u coming to the funeral home</td>\n",
       "      <td>0</td>\n",
       "    </tr>\n",
       "    <tr>\n",
       "      <th>5</th>\n",
       "      <td>So that takes away some money worries</td>\n",
       "      <td>0</td>\n",
       "    </tr>\n",
       "    <tr>\n",
       "      <th>6</th>\n",
       "      <td>After my work ah... Den 6 plus lor... U workin...</td>\n",
       "      <td>0</td>\n",
       "    </tr>\n",
       "    <tr>\n",
       "      <th>7</th>\n",
       "      <td>You have 1 new message. Call 0207-083-6089</td>\n",
       "      <td>1</td>\n",
       "    </tr>\n",
       "    <tr>\n",
       "      <th>8</th>\n",
       "      <td>Hi its me you are probably having too much fun...</td>\n",
       "      <td>0</td>\n",
       "    </tr>\n",
       "    <tr>\n",
       "      <th>9</th>\n",
       "      <td>Just sing HU. I think its also important to fi...</td>\n",
       "      <td>0</td>\n",
       "    </tr>\n",
       "  </tbody>\n",
       "</table>\n",
       "</div>"
      ],
      "text/plain": [
       "                                        Message_body  Label\n",
       "0  U attend ur driving lesson how many times a wk...      0\n",
       "1                        Arun can u transfr me d amt      0\n",
       "2                             I said its okay. Sorry      0\n",
       "3                          How much u trying to get?      0\n",
       "4                   Are u coming to the funeral home      0\n",
       "5              So that takes away some money worries      0\n",
       "6  After my work ah... Den 6 plus lor... U workin...      0\n",
       "7         You have 1 new message. Call 0207-083-6089      1\n",
       "8  Hi its me you are probably having too much fun...      0\n",
       "9  Just sing HU. I think its also important to fi...      0"
      ]
     },
     "execution_count": 16,
     "metadata": {},
     "output_type": "execute_result"
    }
   ],
   "source": [
    "# Reset Index\n",
    "\n",
    "data_train_test.reset_index(drop=True, inplace=True)\n",
    "data_inf.reset_index(drop=True, inplace=True)\n",
    "data_inf"
   ]
  },
  {
   "cell_type": "markdown",
   "metadata": {},
   "source": [
    "## 5.3. Text to Lowercase, Removing Punctuations, Removing Other Non Needed Texts, Removing Stopwords"
   ]
  },
  {
   "cell_type": "code",
   "execution_count": 17,
   "metadata": {},
   "outputs": [],
   "source": [
    "# A Function to use in the dataframe\n",
    "\n",
    "def text_process(text):\n",
    "\n",
    "  # 1. Change all text to Lowercase\n",
    "  text = text.lower()\n",
    "  \n",
    "  # 2. Removing Mentions\n",
    "  text = re.sub(\"@[A-Za-z0-9_]+\", \" \", text)\n",
    "  \n",
    "  # 3. Removing Hashtags\n",
    "  text = re.sub(\"#[A-Za-z0-9_]+\", \" \", text)\n",
    "  \n",
    "  # 4. Removing \\n\n",
    "  text = re.sub(r\"\\\\n\", \" \",text)\n",
    "  \n",
    "  # 5. Removing Whitespaces\n",
    "  text = text.strip()\n",
    "\n",
    "  # 6. Removing Links\n",
    "  text = re.sub(r\"http\\S+\", \" \", text)\n",
    "  text = re.sub(r\"www.\\S+\", \" \", text)\n",
    "\n",
    "  # 7. Removing non text characters such as Emojis, Mathematical symbols\n",
    "  text = re.sub(\"[^A-Za-z\\s']\", \" \", text)\n",
    "\n",
    "  # 8. Removing RT\n",
    "  text = re.sub(\"rt\", \" \",text)\n",
    "\n",
    "  # 9. Tokenization\n",
    "  tokens = word_tokenize(text)\n",
    "\n",
    "  # 10. Removing Stopwords\n",
    "  stopwords_en = list(set(stopwords.words('english')))\n",
    "  text = ' '.join([word for word in tokens if word not in stopwords_en])\n",
    "  \n",
    "  # 11. Stemming\n",
    "  stemmer = PorterStemmer()\n",
    "  text = stemmer.stem(text)\n",
    "  \n",
    "  return text"
   ]
  },
  {
   "cell_type": "markdown",
   "metadata": {},
   "source": [
    "Preprocess Text Documents dilakukan beberapa hal yaitu :\n",
    "\n",
    "1. Text to Lowercase = karena `Call` dan `call` adalah sama arti, jadi untuk mengecilkan vocab bisa digunakan text to lowercase supaya sama\n",
    "2. Removing Mentions, Hastags, NewLine, Whitespaces, Links, Text Characters, RT = karena tidak ada efek antara `Spam` ataupun `Non-Spam` email\n",
    "3. Tokenization = Mengambil satu per satu kata di dalam kalimat\n",
    "4. Removing Stopwords = supaya memfokuskan ke kata-kata yang penting saja\n",
    "5. Stemming = Menghilangkan prural dari bahasa inggris seperti `Calls` dan `Call` adalah sama, stemming akan melakukan pekerjaan ini"
   ]
  },
  {
   "cell_type": "code",
   "execution_count": 18,
   "metadata": {},
   "outputs": [
    {
     "data": {
      "text/html": [
       "<div>\n",
       "<style scoped>\n",
       "    .dataframe tbody tr th:only-of-type {\n",
       "        vertical-align: middle;\n",
       "    }\n",
       "\n",
       "    .dataframe tbody tr th {\n",
       "        vertical-align: top;\n",
       "    }\n",
       "\n",
       "    .dataframe thead th {\n",
       "        text-align: right;\n",
       "    }\n",
       "</style>\n",
       "<table border=\"1\" class=\"dataframe\">\n",
       "  <thead>\n",
       "    <tr style=\"text-align: right;\">\n",
       "      <th></th>\n",
       "      <th>Message_body</th>\n",
       "      <th>Label</th>\n",
       "      <th>Message_processed</th>\n",
       "    </tr>\n",
       "  </thead>\n",
       "  <tbody>\n",
       "    <tr>\n",
       "      <th>0</th>\n",
       "      <td>Rofl. Its true to its name</td>\n",
       "      <td>0</td>\n",
       "      <td>rofl true nam</td>\n",
       "    </tr>\n",
       "    <tr>\n",
       "      <th>1</th>\n",
       "      <td>The guy did some bitching but I acted like i'd...</td>\n",
       "      <td>0</td>\n",
       "      <td>guy bitching acted like 'd interested buying s...</td>\n",
       "    </tr>\n",
       "    <tr>\n",
       "      <th>2</th>\n",
       "      <td>Pity, * was in mood for that. So...any other s...</td>\n",
       "      <td>0</td>\n",
       "      <td>pity mood suggest</td>\n",
       "    </tr>\n",
       "    <tr>\n",
       "      <th>3</th>\n",
       "      <td>Will ü b going to esplanade fr home?</td>\n",
       "      <td>0</td>\n",
       "      <td>b going esplanade fr hom</td>\n",
       "    </tr>\n",
       "    <tr>\n",
       "      <th>4</th>\n",
       "      <td>This is the 2nd time we have tried 2 contact u...</td>\n",
       "      <td>1</td>\n",
       "      <td>nd time tried contact u u pound prize claim ea...</td>\n",
       "    </tr>\n",
       "    <tr>\n",
       "      <th>...</th>\n",
       "      <td>...</td>\n",
       "      <td>...</td>\n",
       "      <td>...</td>\n",
       "    </tr>\n",
       "    <tr>\n",
       "      <th>1067</th>\n",
       "      <td>7 wonders in My WORLD 7th You 6th Ur style 5th...</td>\n",
       "      <td>0</td>\n",
       "      <td>wonders world th th ur style th ur smile th ur...</td>\n",
       "    </tr>\n",
       "    <tr>\n",
       "      <th>1068</th>\n",
       "      <td>Try to do something dear. You read something f...</td>\n",
       "      <td>0</td>\n",
       "      <td>try something dear read something exam</td>\n",
       "    </tr>\n",
       "    <tr>\n",
       "      <th>1069</th>\n",
       "      <td>Sun ah... Thk mayb can if dun have anythin on....</td>\n",
       "      <td>0</td>\n",
       "      <td>sun ah thk mayb dun anythin thk book e lesson ...</td>\n",
       "    </tr>\n",
       "    <tr>\n",
       "      <th>1070</th>\n",
       "      <td>SYMPTOMS when U are in love: \"1.U like listeni...</td>\n",
       "      <td>0</td>\n",
       "      <td>symptoms u love u like listening songs u get s...</td>\n",
       "    </tr>\n",
       "    <tr>\n",
       "      <th>1071</th>\n",
       "      <td>Great. Have a safe trip. Dont panic surrender ...</td>\n",
       "      <td>0</td>\n",
       "      <td>great safe trip dont panic surrend</td>\n",
       "    </tr>\n",
       "  </tbody>\n",
       "</table>\n",
       "<p>1072 rows × 3 columns</p>\n",
       "</div>"
      ],
      "text/plain": [
       "                                           Message_body  Label  \\\n",
       "0                            Rofl. Its true to its name      0   \n",
       "1     The guy did some bitching but I acted like i'd...      0   \n",
       "2     Pity, * was in mood for that. So...any other s...      0   \n",
       "3                  Will ü b going to esplanade fr home?      0   \n",
       "4     This is the 2nd time we have tried 2 contact u...      1   \n",
       "...                                                 ...    ...   \n",
       "1067  7 wonders in My WORLD 7th You 6th Ur style 5th...      0   \n",
       "1068  Try to do something dear. You read something f...      0   \n",
       "1069  Sun ah... Thk mayb can if dun have anythin on....      0   \n",
       "1070  SYMPTOMS when U are in love: \"1.U like listeni...      0   \n",
       "1071  Great. Have a safe trip. Dont panic surrender ...      0   \n",
       "\n",
       "                                      Message_processed  \n",
       "0                                         rofl true nam  \n",
       "1     guy bitching acted like 'd interested buying s...  \n",
       "2                                     pity mood suggest  \n",
       "3                              b going esplanade fr hom  \n",
       "4     nd time tried contact u u pound prize claim ea...  \n",
       "...                                                 ...  \n",
       "1067  wonders world th th ur style th ur smile th ur...  \n",
       "1068             try something dear read something exam  \n",
       "1069  sun ah thk mayb dun anythin thk book e lesson ...  \n",
       "1070  symptoms u love u like listening songs u get s...  \n",
       "1071                 great safe trip dont panic surrend  \n",
       "\n",
       "[1072 rows x 3 columns]"
      ]
     },
     "execution_count": 18,
     "metadata": {},
     "output_type": "execute_result"
    }
   ],
   "source": [
    "# Applying Preprocessing to all Documents\n",
    "\n",
    "data_train_test['Message_processed'] = data_train_test['Message_body'].apply(lambda x: text_process(x))\n",
    "data_train_test"
   ]
  },
  {
   "cell_type": "markdown",
   "metadata": {},
   "source": [
    "## 5.4. Splitting between `X` (Corpus) and `y` (Target)"
   ]
  },
  {
   "cell_type": "code",
   "execution_count": 19,
   "metadata": {},
   "outputs": [
    {
     "name": "stdout",
     "output_type": "stream",
     "text": [
      "Train Size :  (774,)\n",
      "Val Size :  (137,)\n",
      "Test Size :  (161,)\n"
     ]
    }
   ],
   "source": [
    "# Split between Train-Set, Val-Set, and Test-Set\n",
    "\n",
    "X_train_val, X_test, y_train_val, y_test = train_test_split(data_train_test.Message_processed, \n",
    "                                                            data_train_test.Label, \n",
    "                                                            test_size=0.15,\n",
    "                                                            random_state=25,\n",
    "                                                            stratify=data_train_test.Label)\n",
    "\n",
    "X_train, X_val, y_train, y_val = train_test_split(X_train_val, y_train_val, test_size=0.15, random_state=25)\n",
    "\n",
    "print('Train Size : ', X_train.shape)\n",
    "print('Val Size : ', X_val.shape)\n",
    "print('Test Size : ', X_test.shape)"
   ]
  },
  {
   "cell_type": "markdown",
   "metadata": {},
   "source": [
    "## 5.5. Handling Missing Values"
   ]
  },
  {
   "cell_type": "code",
   "execution_count": 20,
   "metadata": {},
   "outputs": [
    {
     "data": {
      "text/plain": [
       "0"
      ]
     },
     "execution_count": 20,
     "metadata": {},
     "output_type": "execute_result"
    }
   ],
   "source": [
    "# Check Missing Values on X_train\n",
    "\n",
    "X_train.isnull().sum()"
   ]
  },
  {
   "cell_type": "code",
   "execution_count": 21,
   "metadata": {},
   "outputs": [
    {
     "data": {
      "text/plain": [
       "0"
      ]
     },
     "execution_count": 21,
     "metadata": {},
     "output_type": "execute_result"
    }
   ],
   "source": [
    "# Check Missing Values on X_val\n",
    "\n",
    "X_val.isnull().sum()"
   ]
  },
  {
   "cell_type": "code",
   "execution_count": 22,
   "metadata": {},
   "outputs": [
    {
     "data": {
      "text/plain": [
       "0"
      ]
     },
     "execution_count": 22,
     "metadata": {},
     "output_type": "execute_result"
    }
   ],
   "source": [
    "# Check Missing Values on X_test\n",
    "\n",
    "X_test.isnull().sum()"
   ]
  },
  {
   "cell_type": "code",
   "execution_count": 23,
   "metadata": {},
   "outputs": [
    {
     "data": {
      "text/plain": [
       "0"
      ]
     },
     "execution_count": 23,
     "metadata": {},
     "output_type": "execute_result"
    }
   ],
   "source": [
    "# Check Missing Values on y_train\n",
    "\n",
    "y_train.isnull().sum()"
   ]
  },
  {
   "cell_type": "code",
   "execution_count": 24,
   "metadata": {},
   "outputs": [
    {
     "data": {
      "text/plain": [
       "0"
      ]
     },
     "execution_count": 24,
     "metadata": {},
     "output_type": "execute_result"
    }
   ],
   "source": [
    "# Check Missing Values on y_val\n",
    "\n",
    "y_val.isnull().sum()"
   ]
  },
  {
   "cell_type": "code",
   "execution_count": 25,
   "metadata": {},
   "outputs": [
    {
     "data": {
      "text/plain": [
       "0"
      ]
     },
     "execution_count": 25,
     "metadata": {},
     "output_type": "execute_result"
    }
   ],
   "source": [
    "# Check Missing Values on y_test\n",
    "\n",
    "y_test.isnull().sum()"
   ]
  },
  {
   "cell_type": "markdown",
   "metadata": {},
   "source": [
    "Tidak ada missing values yang perlu di handle"
   ]
  },
  {
   "cell_type": "markdown",
   "metadata": {},
   "source": [
    "## 5.6. Pipeline"
   ]
  },
  {
   "cell_type": "code",
   "execution_count": 26,
   "metadata": {},
   "outputs": [],
   "source": [
    "# Convert String into Numerical Vocabularies\n",
    "\n",
    "count_vect = CountVectorizer()\n",
    "\n",
    "X_train_vect = count_vect.fit_transform(X_train)\n",
    "X_val_vect = count_vect.transform(X_val)\n",
    "X_test_vect = count_vect.transform(X_test)"
   ]
  },
  {
   "cell_type": "code",
   "execution_count": 27,
   "metadata": {},
   "outputs": [
    {
     "name": "stdout",
     "output_type": "stream",
     "text": [
      "Total Vocab :  2539\n",
      "Maximum Sentence Length :  49 word\n"
     ]
    }
   ],
   "source": [
    "# Search for Total Vocab and Maximum Token in One Document\n",
    "\n",
    "total_vocab = len(count_vect.vocabulary_.keys())\n",
    "max_sen_len = max([len(i.split(\" \")) for i in X_train])\n",
    "\n",
    "print(\"Total Vocab : \", total_vocab)\n",
    "print(\"Maximum Sentence Length : \", max_sen_len, \"word\")"
   ]
  },
  {
   "cell_type": "code",
   "execution_count": 28,
   "metadata": {},
   "outputs": [
    {
     "name": "stderr",
     "output_type": "stream",
     "text": [
      "2022-10-17 15:41:59.977819: W tensorflow/core/platform/profile_utils/cpu_utils.cc:128] Failed to get CPU frequency: 0 Hz\n"
     ]
    }
   ],
   "source": [
    "# Text Vectorization (For Layer 1)\n",
    "\n",
    "text_vectorization = TextVectorization(max_tokens=total_vocab,\n",
    "                                       standardize=\"lower_and_strip_punctuation\",\n",
    "                                       split=\"whitespace\",\n",
    "                                       ngrams=None,\n",
    "                                       output_mode=\"int\",\n",
    "                                       output_sequence_length=max_sen_len,\n",
    "                                       input_shape=(1,)\n",
    "                                       )\n",
    "\n",
    "text_vectorization.adapt(X_train)"
   ]
  },
  {
   "cell_type": "markdown",
   "metadata": {},
   "source": [
    "Untuk layer 1 adalah `Text Vectorization` dimana :\n",
    "\n",
    "- Max Tokens akan berjumlah = `Total Vocab`\n",
    "- Output Sequence Length (`Vector`) = `Maximum Sentence Length`"
   ]
  },
  {
   "cell_type": "code",
   "execution_count": 29,
   "metadata": {},
   "outputs": [],
   "source": [
    "# Embedding\n",
    "\n",
    "embedding = Embedding(input_dim=total_vocab,\n",
    "                      output_dim=172,\n",
    "                      embeddings_initializer=\"uniform\",\n",
    "                      input_length=max_sen_len\n",
    "                      )"
   ]
  },
  {
   "cell_type": "code",
   "execution_count": 30,
   "metadata": {},
   "outputs": [],
   "source": [
    "# Tensor Pipeline Train Set\n",
    "train_dataset = tf.data.Dataset.from_tensor_slices((X_train, y_train))\n",
    "train_dataset = train_dataset.shuffle(buffer_size=150).batch(64)\n",
    "\n",
    "# Tensor Pipeline Test Set\n",
    "test_dataset = tf.data.Dataset.from_tensor_slices((X_test, y_test))\n",
    "test_dataset = test_dataset.batch(64)\n",
    "\n",
    "# Tensor Pipeline Validation Set\n",
    "val_dataset = tf.data.Dataset.from_tensor_slices((X_val, y_val))\n",
    "val_dataset = val_dataset.batch(64)"
   ]
  },
  {
   "cell_type": "markdown",
   "metadata": {},
   "source": [
    "# `Sequential API`"
   ]
  },
  {
   "cell_type": "markdown",
   "metadata": {},
   "source": [
    "# 6. Model Definition"
   ]
  },
  {
   "cell_type": "code",
   "execution_count": 31,
   "metadata": {},
   "outputs": [
    {
     "name": "stdout",
     "output_type": "stream",
     "text": [
      "Model: \"sequential\"\n",
      "_________________________________________________________________\n",
      " Layer (type)                Output Shape              Param #   \n",
      "=================================================================\n",
      " text_vectorization (TextVec  (None, 49)               0         \n",
      " torization)                                                     \n",
      "                                                                 \n",
      " embedding (Embedding)       (None, 49, 172)           436708    \n",
      "                                                                 \n",
      " global_average_pooling1d (G  (None, 172)              0         \n",
      " lobalAveragePooling1D)                                          \n",
      "                                                                 \n",
      " dense (Dense)               (None, 32)                5536      \n",
      "                                                                 \n",
      " dense_1 (Dense)             (None, 1)                 33        \n",
      "                                                                 \n",
      "=================================================================\n",
      "Total params: 442,277\n",
      "Trainable params: 442,277\n",
      "Non-trainable params: 0\n",
      "_________________________________________________________________\n"
     ]
    }
   ],
   "source": [
    "# Create Sequential API\n",
    "model = Sequential()\n",
    "model.add(text_vectorization)\n",
    "model.add(embedding)\n",
    "model.add(GlobalAveragePooling1D())\n",
    "\n",
    "# Hidden Layer 1\n",
    "model.add(Dense(32,activation='relu'))\n",
    "\n",
    "# Output Layer\n",
    "model.add(Dense(1,activation='sigmoid'))\n",
    "\n",
    "# Compiling\n",
    "model.compile(loss='binary_crossentropy',optimizer='Adam',metrics='accuracy')\n",
    "\n",
    "model.summary()"
   ]
  },
  {
   "cell_type": "code",
   "execution_count": 32,
   "metadata": {},
   "outputs": [
    {
     "data": {
      "image/png": "[encoded data removed]",
      "text/plain": [
       "<IPython.core.display.Image object>"
      ]
     },
     "execution_count": 32,
     "metadata": {},
     "output_type": "execute_result"
    }
   ],
   "source": [
    "# Plot Layers\n",
    "\n",
    "tf.keras.utils.plot_model(model, show_shapes=True)"
   ]
  },
  {
   "cell_type": "markdown",
   "metadata": {},
   "source": [
    "# 7. Model Training"
   ]
  },
  {
   "cell_type": "code",
   "execution_count": 33,
   "metadata": {},
   "outputs": [
    {
     "name": "stdout",
     "output_type": "stream",
     "text": [
      "Epoch 1/30\n",
      "13/13 [==============================] - 0s 10ms/step - loss: 0.6600 - accuracy: 0.7739 - val_loss: 0.6219 - val_accuracy: 0.8248\n",
      "Epoch 2/30\n",
      "13/13 [==============================] - 0s 4ms/step - loss: 0.5957 - accuracy: 0.8152 - val_loss: 0.5581 - val_accuracy: 0.8248\n",
      "Epoch 3/30\n",
      "13/13 [==============================] - 0s 3ms/step - loss: 0.5275 - accuracy: 0.8152 - val_loss: 0.4909 - val_accuracy: 0.8248\n",
      "Epoch 4/30\n",
      "13/13 [==============================] - 0s 4ms/step - loss: 0.4628 - accuracy: 0.8152 - val_loss: 0.4392 - val_accuracy: 0.8248\n",
      "Epoch 5/30\n",
      "13/13 [==============================] - 0s 4ms/step - loss: 0.4186 - accuracy: 0.8152 - val_loss: 0.4111 - val_accuracy: 0.8248\n",
      "Epoch 6/30\n",
      "13/13 [==============================] - 0s 4ms/step - loss: 0.3952 - accuracy: 0.8152 - val_loss: 0.3986 - val_accuracy: 0.8248\n",
      "Epoch 7/30\n",
      "13/13 [==============================] - 0s 4ms/step - loss: 0.3788 - accuracy: 0.8152 - val_loss: 0.3851 - val_accuracy: 0.8248\n",
      "Epoch 8/30\n",
      "13/13 [==============================] - 0s 4ms/step - loss: 0.3581 - accuracy: 0.8152 - val_loss: 0.3670 - val_accuracy: 0.8248\n",
      "Epoch 9/30\n",
      "13/13 [==============================] - 0s 4ms/step - loss: 0.3313 - accuracy: 0.8152 - val_loss: 0.3442 - val_accuracy: 0.8248\n",
      "Epoch 10/30\n",
      "13/13 [==============================] - 0s 4ms/step - loss: 0.2985 - accuracy: 0.8191 - val_loss: 0.3150 - val_accuracy: 0.8175\n",
      "Epoch 11/30\n",
      "13/13 [==============================] - 0s 4ms/step - loss: 0.2599 - accuracy: 0.8566 - val_loss: 0.2810 - val_accuracy: 0.8394\n",
      "Epoch 12/30\n",
      "13/13 [==============================] - 0s 4ms/step - loss: 0.2187 - accuracy: 0.9018 - val_loss: 0.2445 - val_accuracy: 0.8759\n",
      "Epoch 13/30\n",
      "13/13 [==============================] - 0s 4ms/step - loss: 0.1788 - accuracy: 0.9457 - val_loss: 0.2090 - val_accuracy: 0.9051\n",
      "Epoch 14/30\n",
      "13/13 [==============================] - 0s 4ms/step - loss: 0.1440 - accuracy: 0.9651 - val_loss: 0.1771 - val_accuracy: 0.9416\n",
      "Epoch 15/30\n",
      "13/13 [==============================] - 0s 4ms/step - loss: 0.1139 - accuracy: 0.9755 - val_loss: 0.1497 - val_accuracy: 0.9416\n",
      "Epoch 16/30\n",
      "13/13 [==============================] - 0s 4ms/step - loss: 0.0895 - accuracy: 0.9806 - val_loss: 0.1282 - val_accuracy: 0.9489\n",
      "Epoch 17/30\n",
      "13/13 [==============================] - 0s 4ms/step - loss: 0.0713 - accuracy: 0.9845 - val_loss: 0.1123 - val_accuracy: 0.9635\n",
      "Epoch 18/30\n",
      "13/13 [==============================] - 0s 5ms/step - loss: 0.0574 - accuracy: 0.9884 - val_loss: 0.1011 - val_accuracy: 0.9708\n",
      "Epoch 19/30\n",
      "13/13 [==============================] - 0s 4ms/step - loss: 0.0504 - accuracy: 0.9948 - val_loss: 0.0915 - val_accuracy: 0.9708\n",
      "Epoch 20/30\n",
      "13/13 [==============================] - 0s 4ms/step - loss: 0.0411 - accuracy: 0.9922 - val_loss: 0.0830 - val_accuracy: 0.9708\n",
      "Epoch 21/30\n",
      "13/13 [==============================] - 0s 4ms/step - loss: 0.0342 - accuracy: 0.9935 - val_loss: 0.0780 - val_accuracy: 0.9781\n",
      "Epoch 22/30\n",
      "13/13 [==============================] - 0s 4ms/step - loss: 0.0297 - accuracy: 0.9948 - val_loss: 0.0728 - val_accuracy: 0.9781\n",
      "Epoch 23/30\n",
      "13/13 [==============================] - 0s 4ms/step - loss: 0.0262 - accuracy: 0.9948 - val_loss: 0.0688 - val_accuracy: 0.9781\n",
      "Epoch 24/30\n",
      "13/13 [==============================] - 0s 4ms/step - loss: 0.0234 - accuracy: 0.9948 - val_loss: 0.0663 - val_accuracy: 0.9781\n",
      "Epoch 25/30\n",
      "13/13 [==============================] - 0s 4ms/step - loss: 0.0210 - accuracy: 0.9961 - val_loss: 0.0633 - val_accuracy: 0.9854\n",
      "Epoch 26/30\n",
      "13/13 [==============================] - 0s 4ms/step - loss: 0.0189 - accuracy: 0.9961 - val_loss: 0.0608 - val_accuracy: 0.9854\n",
      "Epoch 27/30\n",
      "13/13 [==============================] - 0s 4ms/step - loss: 0.0173 - accuracy: 0.9961 - val_loss: 0.0592 - val_accuracy: 0.9854\n",
      "Epoch 28/30\n",
      "13/13 [==============================] - 0s 4ms/step - loss: 0.0160 - accuracy: 0.9961 - val_loss: 0.0567 - val_accuracy: 0.9854\n",
      "Epoch 29/30\n",
      "13/13 [==============================] - 0s 4ms/step - loss: 0.0143 - accuracy: 0.9961 - val_loss: 0.0556 - val_accuracy: 0.9854\n",
      "Epoch 30/30\n",
      "13/13 [==============================] - 0s 4ms/step - loss: 0.0132 - accuracy: 0.9974 - val_loss: 0.0539 - val_accuracy: 0.9854\n"
     ]
    }
   ],
   "source": [
    "# Train the Model\n",
    "\n",
    "history_1 = model.fit(train_dataset, epochs=30, validation_data=val_dataset)"
   ]
  },
  {
   "cell_type": "markdown",
   "metadata": {},
   "source": [
    "# 8. Model Evaluation"
   ]
  },
  {
   "cell_type": "code",
   "execution_count": 34,
   "metadata": {},
   "outputs": [
    {
     "data": {
      "text/html": [
       "<div>\n",
       "<style scoped>\n",
       "    .dataframe tbody tr th:only-of-type {\n",
       "        vertical-align: middle;\n",
       "    }\n",
       "\n",
       "    .dataframe tbody tr th {\n",
       "        vertical-align: top;\n",
       "    }\n",
       "\n",
       "    .dataframe thead th {\n",
       "        text-align: right;\n",
       "    }\n",
       "</style>\n",
       "<table border=\"1\" class=\"dataframe\">\n",
       "  <thead>\n",
       "    <tr style=\"text-align: right;\">\n",
       "      <th></th>\n",
       "      <th>loss</th>\n",
       "      <th>accuracy</th>\n",
       "      <th>val_loss</th>\n",
       "      <th>val_accuracy</th>\n",
       "    </tr>\n",
       "  </thead>\n",
       "  <tbody>\n",
       "    <tr>\n",
       "      <th>0</th>\n",
       "      <td>0.659961</td>\n",
       "      <td>0.773902</td>\n",
       "      <td>0.621881</td>\n",
       "      <td>0.824818</td>\n",
       "    </tr>\n",
       "    <tr>\n",
       "      <th>1</th>\n",
       "      <td>0.595673</td>\n",
       "      <td>0.815245</td>\n",
       "      <td>0.558110</td>\n",
       "      <td>0.824818</td>\n",
       "    </tr>\n",
       "    <tr>\n",
       "      <th>2</th>\n",
       "      <td>0.527470</td>\n",
       "      <td>0.815245</td>\n",
       "      <td>0.490942</td>\n",
       "      <td>0.824818</td>\n",
       "    </tr>\n",
       "    <tr>\n",
       "      <th>3</th>\n",
       "      <td>0.462791</td>\n",
       "      <td>0.815245</td>\n",
       "      <td>0.439191</td>\n",
       "      <td>0.824818</td>\n",
       "    </tr>\n",
       "    <tr>\n",
       "      <th>4</th>\n",
       "      <td>0.418609</td>\n",
       "      <td>0.815245</td>\n",
       "      <td>0.411118</td>\n",
       "      <td>0.824818</td>\n",
       "    </tr>\n",
       "    <tr>\n",
       "      <th>5</th>\n",
       "      <td>0.395182</td>\n",
       "      <td>0.815245</td>\n",
       "      <td>0.398635</td>\n",
       "      <td>0.824818</td>\n",
       "    </tr>\n",
       "    <tr>\n",
       "      <th>6</th>\n",
       "      <td>0.378832</td>\n",
       "      <td>0.815245</td>\n",
       "      <td>0.385054</td>\n",
       "      <td>0.824818</td>\n",
       "    </tr>\n",
       "    <tr>\n",
       "      <th>7</th>\n",
       "      <td>0.358093</td>\n",
       "      <td>0.815245</td>\n",
       "      <td>0.367036</td>\n",
       "      <td>0.824818</td>\n",
       "    </tr>\n",
       "    <tr>\n",
       "      <th>8</th>\n",
       "      <td>0.331346</td>\n",
       "      <td>0.815245</td>\n",
       "      <td>0.344175</td>\n",
       "      <td>0.824818</td>\n",
       "    </tr>\n",
       "    <tr>\n",
       "      <th>9</th>\n",
       "      <td>0.298462</td>\n",
       "      <td>0.819121</td>\n",
       "      <td>0.314963</td>\n",
       "      <td>0.817518</td>\n",
       "    </tr>\n",
       "    <tr>\n",
       "      <th>10</th>\n",
       "      <td>0.259907</td>\n",
       "      <td>0.856589</td>\n",
       "      <td>0.280966</td>\n",
       "      <td>0.839416</td>\n",
       "    </tr>\n",
       "    <tr>\n",
       "      <th>11</th>\n",
       "      <td>0.218655</td>\n",
       "      <td>0.901809</td>\n",
       "      <td>0.244452</td>\n",
       "      <td>0.875912</td>\n",
       "    </tr>\n",
       "    <tr>\n",
       "      <th>12</th>\n",
       "      <td>0.178815</td>\n",
       "      <td>0.945736</td>\n",
       "      <td>0.209037</td>\n",
       "      <td>0.905109</td>\n",
       "    </tr>\n",
       "    <tr>\n",
       "      <th>13</th>\n",
       "      <td>0.143982</td>\n",
       "      <td>0.965116</td>\n",
       "      <td>0.177111</td>\n",
       "      <td>0.941606</td>\n",
       "    </tr>\n",
       "    <tr>\n",
       "      <th>14</th>\n",
       "      <td>0.113922</td>\n",
       "      <td>0.975452</td>\n",
       "      <td>0.149729</td>\n",
       "      <td>0.941606</td>\n",
       "    </tr>\n",
       "    <tr>\n",
       "      <th>15</th>\n",
       "      <td>0.089530</td>\n",
       "      <td>0.980620</td>\n",
       "      <td>0.128232</td>\n",
       "      <td>0.948905</td>\n",
       "    </tr>\n",
       "    <tr>\n",
       "      <th>16</th>\n",
       "      <td>0.071271</td>\n",
       "      <td>0.984496</td>\n",
       "      <td>0.112311</td>\n",
       "      <td>0.963504</td>\n",
       "    </tr>\n",
       "    <tr>\n",
       "      <th>17</th>\n",
       "      <td>0.057371</td>\n",
       "      <td>0.988372</td>\n",
       "      <td>0.101128</td>\n",
       "      <td>0.970803</td>\n",
       "    </tr>\n",
       "    <tr>\n",
       "      <th>18</th>\n",
       "      <td>0.050379</td>\n",
       "      <td>0.994832</td>\n",
       "      <td>0.091478</td>\n",
       "      <td>0.970803</td>\n",
       "    </tr>\n",
       "    <tr>\n",
       "      <th>19</th>\n",
       "      <td>0.041066</td>\n",
       "      <td>0.992248</td>\n",
       "      <td>0.083009</td>\n",
       "      <td>0.970803</td>\n",
       "    </tr>\n",
       "    <tr>\n",
       "      <th>20</th>\n",
       "      <td>0.034196</td>\n",
       "      <td>0.993540</td>\n",
       "      <td>0.077978</td>\n",
       "      <td>0.978102</td>\n",
       "    </tr>\n",
       "    <tr>\n",
       "      <th>21</th>\n",
       "      <td>0.029715</td>\n",
       "      <td>0.994832</td>\n",
       "      <td>0.072842</td>\n",
       "      <td>0.978102</td>\n",
       "    </tr>\n",
       "    <tr>\n",
       "      <th>22</th>\n",
       "      <td>0.026230</td>\n",
       "      <td>0.994832</td>\n",
       "      <td>0.068840</td>\n",
       "      <td>0.978102</td>\n",
       "    </tr>\n",
       "    <tr>\n",
       "      <th>23</th>\n",
       "      <td>0.023400</td>\n",
       "      <td>0.994832</td>\n",
       "      <td>0.066284</td>\n",
       "      <td>0.978102</td>\n",
       "    </tr>\n",
       "    <tr>\n",
       "      <th>24</th>\n",
       "      <td>0.020963</td>\n",
       "      <td>0.996124</td>\n",
       "      <td>0.063328</td>\n",
       "      <td>0.985401</td>\n",
       "    </tr>\n",
       "    <tr>\n",
       "      <th>25</th>\n",
       "      <td>0.018889</td>\n",
       "      <td>0.996124</td>\n",
       "      <td>0.060774</td>\n",
       "      <td>0.985401</td>\n",
       "    </tr>\n",
       "    <tr>\n",
       "      <th>26</th>\n",
       "      <td>0.017289</td>\n",
       "      <td>0.996124</td>\n",
       "      <td>0.059236</td>\n",
       "      <td>0.985401</td>\n",
       "    </tr>\n",
       "    <tr>\n",
       "      <th>27</th>\n",
       "      <td>0.015985</td>\n",
       "      <td>0.996124</td>\n",
       "      <td>0.056732</td>\n",
       "      <td>0.985401</td>\n",
       "    </tr>\n",
       "    <tr>\n",
       "      <th>28</th>\n",
       "      <td>0.014323</td>\n",
       "      <td>0.996124</td>\n",
       "      <td>0.055640</td>\n",
       "      <td>0.985401</td>\n",
       "    </tr>\n",
       "    <tr>\n",
       "      <th>29</th>\n",
       "      <td>0.013209</td>\n",
       "      <td>0.997416</td>\n",
       "      <td>0.053891</td>\n",
       "      <td>0.985401</td>\n",
       "    </tr>\n",
       "  </tbody>\n",
       "</table>\n",
       "</div>"
      ],
      "text/plain": [
       "        loss  accuracy  val_loss  val_accuracy\n",
       "0   0.659961  0.773902  0.621881      0.824818\n",
       "1   0.595673  0.815245  0.558110      0.824818\n",
       "2   0.527470  0.815245  0.490942      0.824818\n",
       "3   0.462791  0.815245  0.439191      0.824818\n",
       "4   0.418609  0.815245  0.411118      0.824818\n",
       "5   0.395182  0.815245  0.398635      0.824818\n",
       "6   0.378832  0.815245  0.385054      0.824818\n",
       "7   0.358093  0.815245  0.367036      0.824818\n",
       "8   0.331346  0.815245  0.344175      0.824818\n",
       "9   0.298462  0.819121  0.314963      0.817518\n",
       "10  0.259907  0.856589  0.280966      0.839416\n",
       "11  0.218655  0.901809  0.244452      0.875912\n",
       "12  0.178815  0.945736  0.209037      0.905109\n",
       "13  0.143982  0.965116  0.177111      0.941606\n",
       "14  0.113922  0.975452  0.149729      0.941606\n",
       "15  0.089530  0.980620  0.128232      0.948905\n",
       "16  0.071271  0.984496  0.112311      0.963504\n",
       "17  0.057371  0.988372  0.101128      0.970803\n",
       "18  0.050379  0.994832  0.091478      0.970803\n",
       "19  0.041066  0.992248  0.083009      0.970803\n",
       "20  0.034196  0.993540  0.077978      0.978102\n",
       "21  0.029715  0.994832  0.072842      0.978102\n",
       "22  0.026230  0.994832  0.068840      0.978102\n",
       "23  0.023400  0.994832  0.066284      0.978102\n",
       "24  0.020963  0.996124  0.063328      0.985401\n",
       "25  0.018889  0.996124  0.060774      0.985401\n",
       "26  0.017289  0.996124  0.059236      0.985401\n",
       "27  0.015985  0.996124  0.056732      0.985401\n",
       "28  0.014323  0.996124  0.055640      0.985401\n",
       "29  0.013209  0.997416  0.053891      0.985401"
      ]
     },
     "execution_count": 34,
     "metadata": {},
     "output_type": "execute_result"
    }
   ],
   "source": [
    "# Create Dataframe\n",
    "\n",
    "history_seq_df = pd.DataFrame(history_1.history)\n",
    "history_seq_df"
   ]
  },
  {
   "cell_type": "markdown",
   "metadata": {},
   "source": [
    "Di `Epoch` ke 18 model sudah mulai tidak menunjukkan kenaikan atau penurunan lagi pada `Accuracy` maupun `Loss` nya. Bisa dibilang model ini cukup bagus untuk digunakan karena accuracy score nya sekitar `98%`. Dimana `2%` miss akan tidak sangat berpengaruh di dalam prediksi."
   ]
  },
  {
   "cell_type": "code",
   "execution_count": 35,
   "metadata": {},
   "outputs": [
    {
     "data": {
      "text/plain": [
       "<AxesSubplot:>"
      ]
     },
     "execution_count": 35,
     "metadata": {},
     "output_type": "execute_result"
    },
    {
     "data": {
      "image/png": "[encoded data removed]",
      "text/plain": [
       "<Figure size 432x288 with 1 Axes>"
      ]
     },
     "metadata": {
      "needs_background": "light"
     },
     "output_type": "display_data"
    }
   ],
   "source": [
    "# Plot between Accuracy and val_accuracy\n",
    "\n",
    "history_seq_df[['accuracy', 'val_accuracy']].plot()"
   ]
  },
  {
   "cell_type": "code",
   "execution_count": 36,
   "metadata": {},
   "outputs": [
    {
     "data": {
      "text/plain": [
       "<AxesSubplot:>"
      ]
     },
     "execution_count": 36,
     "metadata": {},
     "output_type": "execute_result"
    },
    {
     "data": {
      "image/png": "[encoded data removed]",
      "text/plain": [
       "<Figure size 432x288 with 1 Axes>"
      ]
     },
     "metadata": {
      "needs_background": "light"
     },
     "output_type": "display_data"
    }
   ],
   "source": [
    "# Plot between loss and val_loss\n",
    "\n",
    "history_seq_df[['loss', 'val_loss']].plot()"
   ]
  },
  {
   "cell_type": "markdown",
   "metadata": {},
   "source": [
    "Model ini mulai stagnan di epoch ke `18` tidak menunjukkan perubahan naik atau turun di `Accuracy` ataupun `Loss`."
   ]
  },
  {
   "cell_type": "code",
   "execution_count": 37,
   "metadata": {},
   "outputs": [
    {
     "name": "stdout",
     "output_type": "stream",
     "text": [
      "6/6 [==============================] - 0s 1ms/step\n",
      "              precision    recall  f1-score   support\n",
      "\n",
      "           0       0.98      0.98      0.98       131\n",
      "           1       0.93      0.93      0.93        30\n",
      "\n",
      "    accuracy                           0.98       161\n",
      "   macro avg       0.96      0.96      0.96       161\n",
      "weighted avg       0.98      0.98      0.98       161\n",
      "\n"
     ]
    }
   ],
   "source": [
    "# Model Evaluation using Classification Report\n",
    "\n",
    "y_pred_seq = model.predict(X_test)\n",
    "y_pred_seq = np.where(y_pred_seq >= 0.5, 1, 0)\n",
    "\n",
    "print(classification_report(y_test, y_pred_seq))"
   ]
  },
  {
   "cell_type": "markdown",
   "metadata": {},
   "source": [
    "Highlight disini adalah Model mendapatkan :\n",
    "\n",
    "- Accuracy Score = `98%`\n",
    "- Serta di prediksi Non-Spam = `99%`\n",
    "- Di prediksi Spam = `95%`\n",
    "\n",
    "Bisa dibilang model ini cukup bagus untuk memprediksi atau mengklasifikasikan apakah email itu spam atau non-spam"
   ]
  },
  {
   "cell_type": "code",
   "execution_count": 38,
   "metadata": {},
   "outputs": [
    {
     "data": {
      "image/png": "[encoded data removed]",
      "text/plain": [
       "<Figure size 720x360 with 2 Axes>"
      ]
     },
     "metadata": {
      "needs_background": "light"
     },
     "output_type": "display_data"
    }
   ],
   "source": [
    "# Check Confusion Matrix\n",
    "\n",
    "cm = confusion_matrix(y_test, y_pred_seq)\n",
    "plt.figure(figsize=(10,5))\n",
    "sns.heatmap(cm,annot=True, cmap=\"Blues\", fmt=\"d\", \n",
    "            xticklabels = ['No Spam', 'Spam'], \n",
    "            yticklabels = ['No Spam', 'Spam'])\n",
    "plt.ylabel('True label')\n",
    "plt.xlabel('Predicted label')\n",
    "plt.title(\"Confusion Matrix - Sequential API Baseline\")\n",
    "plt.show()"
   ]
  },
  {
   "cell_type": "markdown",
   "metadata": {},
   "source": [
    "Dari total :\n",
    "\n",
    "- Non Spam = 131 total, ada 1 yang salah prediksi menjadi spam\n",
    "- Spam = 30 total, ada 2 yang salah prediksi menjadi non-spam"
   ]
  },
  {
   "cell_type": "markdown",
   "metadata": {},
   "source": [
    "# `Sequential API - Model Improvement`"
   ]
  },
  {
   "cell_type": "markdown",
   "metadata": {},
   "source": [
    "# 6. Model Definition"
   ]
  },
  {
   "cell_type": "code",
   "execution_count": 39,
   "metadata": {},
   "outputs": [
    {
     "name": "stdout",
     "output_type": "stream",
     "text": [
      "Model: \"sequential_1\"\n",
      "_________________________________________________________________\n",
      " Layer (type)                Output Shape              Param #   \n",
      "=================================================================\n",
      " text_vectorization (TextVec  (None, 49)               0         \n",
      " torization)                                                     \n",
      "                                                                 \n",
      " embedding (Embedding)       (None, 49, 172)           436708    \n",
      "                                                                 \n",
      " global_average_pooling1d_1   (None, 172)              0         \n",
      " (GlobalAveragePooling1D)                                        \n",
      "                                                                 \n",
      " dense_2 (Dense)             (None, 32)                5536      \n",
      "                                                                 \n",
      " dense_3 (Dense)             (None, 1)                 33        \n",
      "                                                                 \n",
      "=================================================================\n",
      "Total params: 442,277\n",
      "Trainable params: 442,277\n",
      "Non-trainable params: 0\n",
      "_________________________________________________________________\n"
     ]
    }
   ],
   "source": [
    "# Create Sequential API\n",
    "model_imp = Sequential()\n",
    "model_imp.add(text_vectorization)\n",
    "model_imp.add(embedding)\n",
    "model_imp.add(GlobalAveragePooling1D())\n",
    "\n",
    "# Hidden Layer 1\n",
    "model_imp.add(Dense(32,activation='relu'))\n",
    "\n",
    "# Output Layer\n",
    "model_imp.add(Dense(1,activation='sigmoid'))\n",
    "\n",
    "# Compiling\n",
    "model_imp.compile(loss='binary_crossentropy',optimizer='Nadam',metrics='accuracy')\n",
    "\n",
    "model_imp.summary()"
   ]
  },
  {
   "cell_type": "code",
   "execution_count": 40,
   "metadata": {},
   "outputs": [
    {
     "data": {
      "image/png": "[encoded data removed]",
      "text/plain": [
       "<IPython.core.display.Image object>"
      ]
     },
     "execution_count": 40,
     "metadata": {},
     "output_type": "execute_result"
    }
   ],
   "source": [
    "# Plot Layers\n",
    "\n",
    "tf.keras.utils.plot_model(model_imp, show_shapes=True)"
   ]
  },
  {
   "cell_type": "markdown",
   "metadata": {},
   "source": [
    "# 7. Model Training"
   ]
  },
  {
   "cell_type": "code",
   "execution_count": 41,
   "metadata": {},
   "outputs": [
    {
     "name": "stdout",
     "output_type": "stream",
     "text": [
      "Epoch 1/30\n",
      "13/13 [==============================] - 0s 8ms/step - loss: 0.6353 - accuracy: 0.7649 - val_loss: 0.5593 - val_accuracy: 0.8248\n",
      "Epoch 2/30\n",
      "13/13 [==============================] - 0s 3ms/step - loss: 0.4981 - accuracy: 0.8178 - val_loss: 0.4523 - val_accuracy: 0.8248\n",
      "Epoch 3/30\n",
      "13/13 [==============================] - 0s 3ms/step - loss: 0.3950 - accuracy: 0.8204 - val_loss: 0.3763 - val_accuracy: 0.8248\n",
      "Epoch 4/30\n",
      "13/13 [==============================] - 0s 3ms/step - loss: 0.3237 - accuracy: 0.8230 - val_loss: 0.3282 - val_accuracy: 0.8321\n",
      "Epoch 5/30\n",
      "13/13 [==============================] - 0s 3ms/step - loss: 0.2728 - accuracy: 0.8514 - val_loss: 0.2918 - val_accuracy: 0.8394\n",
      "Epoch 6/30\n",
      "13/13 [==============================] - 0s 3ms/step - loss: 0.2307 - accuracy: 0.8992 - val_loss: 0.2572 - val_accuracy: 0.8759\n",
      "Epoch 7/30\n",
      "13/13 [==============================] - 0s 3ms/step - loss: 0.1920 - accuracy: 0.9406 - val_loss: 0.2261 - val_accuracy: 0.9051\n",
      "Epoch 8/30\n",
      "13/13 [==============================] - 0s 4ms/step - loss: 0.1592 - accuracy: 0.9716 - val_loss: 0.1976 - val_accuracy: 0.9343\n",
      "Epoch 9/30\n",
      "13/13 [==============================] - 0s 4ms/step - loss: 0.1315 - accuracy: 0.9767 - val_loss: 0.1740 - val_accuracy: 0.9416\n",
      "Epoch 10/30\n",
      "13/13 [==============================] - 0s 4ms/step - loss: 0.1092 - accuracy: 0.9819 - val_loss: 0.1538 - val_accuracy: 0.9635\n",
      "Epoch 11/30\n",
      "13/13 [==============================] - 0s 4ms/step - loss: 0.0908 - accuracy: 0.9871 - val_loss: 0.1370 - val_accuracy: 0.9708\n",
      "Epoch 12/30\n",
      "13/13 [==============================] - 0s 4ms/step - loss: 0.0762 - accuracy: 0.9910 - val_loss: 0.1249 - val_accuracy: 0.9708\n",
      "Epoch 13/30\n",
      "13/13 [==============================] - 0s 4ms/step - loss: 0.0649 - accuracy: 0.9922 - val_loss: 0.1122 - val_accuracy: 0.9708\n",
      "Epoch 14/30\n",
      "13/13 [==============================] - 0s 4ms/step - loss: 0.0555 - accuracy: 0.9922 - val_loss: 0.1028 - val_accuracy: 0.9708\n",
      "Epoch 15/30\n",
      "13/13 [==============================] - 0s 4ms/step - loss: 0.0481 - accuracy: 0.9922 - val_loss: 0.1046 - val_accuracy: 0.9781\n",
      "Epoch 16/30\n",
      "13/13 [==============================] - 0s 4ms/step - loss: 0.0442 - accuracy: 0.9935 - val_loss: 0.0900 - val_accuracy: 0.9781\n",
      "Epoch 17/30\n",
      "13/13 [==============================] - 0s 4ms/step - loss: 0.0379 - accuracy: 0.9935 - val_loss: 0.0842 - val_accuracy: 0.9781\n",
      "Epoch 18/30\n",
      "13/13 [==============================] - 0s 4ms/step - loss: 0.0342 - accuracy: 0.9935 - val_loss: 0.0799 - val_accuracy: 0.9781\n",
      "Epoch 19/30\n",
      "13/13 [==============================] - 0s 4ms/step - loss: 0.0308 - accuracy: 0.9935 - val_loss: 0.0850 - val_accuracy: 0.9854\n",
      "Epoch 20/30\n",
      "13/13 [==============================] - 0s 4ms/step - loss: 0.0289 - accuracy: 0.9974 - val_loss: 0.0747 - val_accuracy: 0.9854\n",
      "Epoch 21/30\n",
      "13/13 [==============================] - 0s 4ms/step - loss: 0.0252 - accuracy: 0.9948 - val_loss: 0.0708 - val_accuracy: 0.9854\n",
      "Epoch 22/30\n",
      "13/13 [==============================] - 0s 4ms/step - loss: 0.0234 - accuracy: 0.9961 - val_loss: 0.0730 - val_accuracy: 0.9854\n",
      "Epoch 23/30\n",
      "13/13 [==============================] - 0s 4ms/step - loss: 0.0218 - accuracy: 0.9974 - val_loss: 0.0677 - val_accuracy: 0.9854\n",
      "Epoch 24/30\n",
      "13/13 [==============================] - 0s 4ms/step - loss: 0.0198 - accuracy: 0.9961 - val_loss: 0.0647 - val_accuracy: 0.9854\n",
      "Epoch 25/30\n",
      "13/13 [==============================] - 0s 4ms/step - loss: 0.0185 - accuracy: 0.9961 - val_loss: 0.0644 - val_accuracy: 0.9854\n",
      "Epoch 26/30\n",
      "13/13 [==============================] - 0s 4ms/step - loss: 0.0172 - accuracy: 0.9974 - val_loss: 0.0626 - val_accuracy: 0.9854\n",
      "Epoch 27/30\n",
      "13/13 [==============================] - 0s 4ms/step - loss: 0.0162 - accuracy: 0.9974 - val_loss: 0.0610 - val_accuracy: 0.9854\n",
      "Epoch 28/30\n",
      "13/13 [==============================] - 0s 4ms/step - loss: 0.0152 - accuracy: 0.9974 - val_loss: 0.0598 - val_accuracy: 0.9854\n",
      "Epoch 29/30\n",
      "13/13 [==============================] - 0s 4ms/step - loss: 0.0144 - accuracy: 0.9974 - val_loss: 0.0587 - val_accuracy: 0.9854\n",
      "Epoch 30/30\n",
      "13/13 [==============================] - 0s 4ms/step - loss: 0.0136 - accuracy: 0.9974 - val_loss: 0.0603 - val_accuracy: 0.9854\n"
     ]
    }
   ],
   "source": [
    "# Train the Model\n",
    "\n",
    "history_imp = model_imp.fit(train_dataset, epochs=30, validation_data=val_dataset)"
   ]
  },
  {
   "cell_type": "markdown",
   "metadata": {},
   "source": [
    "# 8. Model Evaluation"
   ]
  },
  {
   "cell_type": "code",
   "execution_count": 42,
   "metadata": {},
   "outputs": [
    {
     "data": {
      "text/html": [
       "<div>\n",
       "<style scoped>\n",
       "    .dataframe tbody tr th:only-of-type {\n",
       "        vertical-align: middle;\n",
       "    }\n",
       "\n",
       "    .dataframe tbody tr th {\n",
       "        vertical-align: top;\n",
       "    }\n",
       "\n",
       "    .dataframe thead th {\n",
       "        text-align: right;\n",
       "    }\n",
       "</style>\n",
       "<table border=\"1\" class=\"dataframe\">\n",
       "  <thead>\n",
       "    <tr style=\"text-align: right;\">\n",
       "      <th></th>\n",
       "      <th>loss</th>\n",
       "      <th>accuracy</th>\n",
       "      <th>val_loss</th>\n",
       "      <th>val_accuracy</th>\n",
       "    </tr>\n",
       "  </thead>\n",
       "  <tbody>\n",
       "    <tr>\n",
       "      <th>0</th>\n",
       "      <td>0.635270</td>\n",
       "      <td>0.764858</td>\n",
       "      <td>0.559317</td>\n",
       "      <td>0.824818</td>\n",
       "    </tr>\n",
       "    <tr>\n",
       "      <th>1</th>\n",
       "      <td>0.498108</td>\n",
       "      <td>0.817829</td>\n",
       "      <td>0.452256</td>\n",
       "      <td>0.824818</td>\n",
       "    </tr>\n",
       "    <tr>\n",
       "      <th>2</th>\n",
       "      <td>0.395019</td>\n",
       "      <td>0.820413</td>\n",
       "      <td>0.376295</td>\n",
       "      <td>0.824818</td>\n",
       "    </tr>\n",
       "    <tr>\n",
       "      <th>3</th>\n",
       "      <td>0.323677</td>\n",
       "      <td>0.822997</td>\n",
       "      <td>0.328241</td>\n",
       "      <td>0.832117</td>\n",
       "    </tr>\n",
       "    <tr>\n",
       "      <th>4</th>\n",
       "      <td>0.272777</td>\n",
       "      <td>0.851421</td>\n",
       "      <td>0.291777</td>\n",
       "      <td>0.839416</td>\n",
       "    </tr>\n",
       "    <tr>\n",
       "      <th>5</th>\n",
       "      <td>0.230699</td>\n",
       "      <td>0.899225</td>\n",
       "      <td>0.257198</td>\n",
       "      <td>0.875912</td>\n",
       "    </tr>\n",
       "    <tr>\n",
       "      <th>6</th>\n",
       "      <td>0.191967</td>\n",
       "      <td>0.940568</td>\n",
       "      <td>0.226067</td>\n",
       "      <td>0.905109</td>\n",
       "    </tr>\n",
       "    <tr>\n",
       "      <th>7</th>\n",
       "      <td>0.159238</td>\n",
       "      <td>0.971576</td>\n",
       "      <td>0.197566</td>\n",
       "      <td>0.934307</td>\n",
       "    </tr>\n",
       "    <tr>\n",
       "      <th>8</th>\n",
       "      <td>0.131505</td>\n",
       "      <td>0.976744</td>\n",
       "      <td>0.173997</td>\n",
       "      <td>0.941606</td>\n",
       "    </tr>\n",
       "    <tr>\n",
       "      <th>9</th>\n",
       "      <td>0.109237</td>\n",
       "      <td>0.981912</td>\n",
       "      <td>0.153838</td>\n",
       "      <td>0.963504</td>\n",
       "    </tr>\n",
       "    <tr>\n",
       "      <th>10</th>\n",
       "      <td>0.090805</td>\n",
       "      <td>0.987080</td>\n",
       "      <td>0.137009</td>\n",
       "      <td>0.970803</td>\n",
       "    </tr>\n",
       "    <tr>\n",
       "      <th>11</th>\n",
       "      <td>0.076236</td>\n",
       "      <td>0.990956</td>\n",
       "      <td>0.124903</td>\n",
       "      <td>0.970803</td>\n",
       "    </tr>\n",
       "    <tr>\n",
       "      <th>12</th>\n",
       "      <td>0.064881</td>\n",
       "      <td>0.992248</td>\n",
       "      <td>0.112206</td>\n",
       "      <td>0.970803</td>\n",
       "    </tr>\n",
       "    <tr>\n",
       "      <th>13</th>\n",
       "      <td>0.055473</td>\n",
       "      <td>0.992248</td>\n",
       "      <td>0.102793</td>\n",
       "      <td>0.970803</td>\n",
       "    </tr>\n",
       "    <tr>\n",
       "      <th>14</th>\n",
       "      <td>0.048126</td>\n",
       "      <td>0.992248</td>\n",
       "      <td>0.104551</td>\n",
       "      <td>0.978102</td>\n",
       "    </tr>\n",
       "    <tr>\n",
       "      <th>15</th>\n",
       "      <td>0.044208</td>\n",
       "      <td>0.993540</td>\n",
       "      <td>0.090020</td>\n",
       "      <td>0.978102</td>\n",
       "    </tr>\n",
       "    <tr>\n",
       "      <th>16</th>\n",
       "      <td>0.037881</td>\n",
       "      <td>0.993540</td>\n",
       "      <td>0.084233</td>\n",
       "      <td>0.978102</td>\n",
       "    </tr>\n",
       "    <tr>\n",
       "      <th>17</th>\n",
       "      <td>0.034197</td>\n",
       "      <td>0.993540</td>\n",
       "      <td>0.079890</td>\n",
       "      <td>0.978102</td>\n",
       "    </tr>\n",
       "    <tr>\n",
       "      <th>18</th>\n",
       "      <td>0.030806</td>\n",
       "      <td>0.993540</td>\n",
       "      <td>0.084986</td>\n",
       "      <td>0.985401</td>\n",
       "    </tr>\n",
       "    <tr>\n",
       "      <th>19</th>\n",
       "      <td>0.028928</td>\n",
       "      <td>0.997416</td>\n",
       "      <td>0.074664</td>\n",
       "      <td>0.985401</td>\n",
       "    </tr>\n",
       "    <tr>\n",
       "      <th>20</th>\n",
       "      <td>0.025223</td>\n",
       "      <td>0.994832</td>\n",
       "      <td>0.070792</td>\n",
       "      <td>0.985401</td>\n",
       "    </tr>\n",
       "    <tr>\n",
       "      <th>21</th>\n",
       "      <td>0.023397</td>\n",
       "      <td>0.996124</td>\n",
       "      <td>0.073011</td>\n",
       "      <td>0.985401</td>\n",
       "    </tr>\n",
       "    <tr>\n",
       "      <th>22</th>\n",
       "      <td>0.021815</td>\n",
       "      <td>0.997416</td>\n",
       "      <td>0.067674</td>\n",
       "      <td>0.985401</td>\n",
       "    </tr>\n",
       "    <tr>\n",
       "      <th>23</th>\n",
       "      <td>0.019831</td>\n",
       "      <td>0.996124</td>\n",
       "      <td>0.064729</td>\n",
       "      <td>0.985401</td>\n",
       "    </tr>\n",
       "    <tr>\n",
       "      <th>24</th>\n",
       "      <td>0.018491</td>\n",
       "      <td>0.996124</td>\n",
       "      <td>0.064399</td>\n",
       "      <td>0.985401</td>\n",
       "    </tr>\n",
       "    <tr>\n",
       "      <th>25</th>\n",
       "      <td>0.017235</td>\n",
       "      <td>0.997416</td>\n",
       "      <td>0.062557</td>\n",
       "      <td>0.985401</td>\n",
       "    </tr>\n",
       "    <tr>\n",
       "      <th>26</th>\n",
       "      <td>0.016245</td>\n",
       "      <td>0.997416</td>\n",
       "      <td>0.060978</td>\n",
       "      <td>0.985401</td>\n",
       "    </tr>\n",
       "    <tr>\n",
       "      <th>27</th>\n",
       "      <td>0.015225</td>\n",
       "      <td>0.997416</td>\n",
       "      <td>0.059826</td>\n",
       "      <td>0.985401</td>\n",
       "    </tr>\n",
       "    <tr>\n",
       "      <th>28</th>\n",
       "      <td>0.014414</td>\n",
       "      <td>0.997416</td>\n",
       "      <td>0.058672</td>\n",
       "      <td>0.985401</td>\n",
       "    </tr>\n",
       "    <tr>\n",
       "      <th>29</th>\n",
       "      <td>0.013613</td>\n",
       "      <td>0.997416</td>\n",
       "      <td>0.060314</td>\n",
       "      <td>0.985401</td>\n",
       "    </tr>\n",
       "  </tbody>\n",
       "</table>\n",
       "</div>"
      ],
      "text/plain": [
       "        loss  accuracy  val_loss  val_accuracy\n",
       "0   0.635270  0.764858  0.559317      0.824818\n",
       "1   0.498108  0.817829  0.452256      0.824818\n",
       "2   0.395019  0.820413  0.376295      0.824818\n",
       "3   0.323677  0.822997  0.328241      0.832117\n",
       "4   0.272777  0.851421  0.291777      0.839416\n",
       "5   0.230699  0.899225  0.257198      0.875912\n",
       "6   0.191967  0.940568  0.226067      0.905109\n",
       "7   0.159238  0.971576  0.197566      0.934307\n",
       "8   0.131505  0.976744  0.173997      0.941606\n",
       "9   0.109237  0.981912  0.153838      0.963504\n",
       "10  0.090805  0.987080  0.137009      0.970803\n",
       "11  0.076236  0.990956  0.124903      0.970803\n",
       "12  0.064881  0.992248  0.112206      0.970803\n",
       "13  0.055473  0.992248  0.102793      0.970803\n",
       "14  0.048126  0.992248  0.104551      0.978102\n",
       "15  0.044208  0.993540  0.090020      0.978102\n",
       "16  0.037881  0.993540  0.084233      0.978102\n",
       "17  0.034197  0.993540  0.079890      0.978102\n",
       "18  0.030806  0.993540  0.084986      0.985401\n",
       "19  0.028928  0.997416  0.074664      0.985401\n",
       "20  0.025223  0.994832  0.070792      0.985401\n",
       "21  0.023397  0.996124  0.073011      0.985401\n",
       "22  0.021815  0.997416  0.067674      0.985401\n",
       "23  0.019831  0.996124  0.064729      0.985401\n",
       "24  0.018491  0.996124  0.064399      0.985401\n",
       "25  0.017235  0.997416  0.062557      0.985401\n",
       "26  0.016245  0.997416  0.060978      0.985401\n",
       "27  0.015225  0.997416  0.059826      0.985401\n",
       "28  0.014414  0.997416  0.058672      0.985401\n",
       "29  0.013613  0.997416  0.060314      0.985401"
      ]
     },
     "execution_count": 42,
     "metadata": {},
     "output_type": "execute_result"
    }
   ],
   "source": [
    "# Create Dataframe\n",
    "\n",
    "history_imp_df = pd.DataFrame(history_imp.history)\n",
    "history_imp_df"
   ]
  },
  {
   "cell_type": "markdown",
   "metadata": {},
   "source": [
    "Di `Epoch` ke 11 model sudah mulai tidak menunjukkan kenaikan atau penurunan lagi pada `Accuracy` maupun `Loss` nya. Bisa dibilang model ini cukup bagus untuk digunakan karena accuracy score nya sekitar `98%`. Dimana `2%` miss akan tidak sangat berpengaruh di dalam prediksi.\n",
    "\n",
    "Bisa dibilang menggunakan optimizer `Nadam` model ini lebih cepat belajar data train nya."
   ]
  },
  {
   "cell_type": "code",
   "execution_count": 43,
   "metadata": {},
   "outputs": [
    {
     "data": {
      "text/plain": [
       "<AxesSubplot:>"
      ]
     },
     "execution_count": 43,
     "metadata": {},
     "output_type": "execute_result"
    },
    {
     "data": {
      "image/png": "[encoded data removed]",
      "text/plain": [
       "<Figure size 432x288 with 1 Axes>"
      ]
     },
     "metadata": {
      "needs_background": "light"
     },
     "output_type": "display_data"
    }
   ],
   "source": [
    "# Plot between Accuracy and val_accuracy\n",
    "\n",
    "history_imp_df[['accuracy', 'val_accuracy']].plot()"
   ]
  },
  {
   "cell_type": "code",
   "execution_count": 44,
   "metadata": {},
   "outputs": [
    {
     "data": {
      "text/plain": [
       "<AxesSubplot:>"
      ]
     },
     "execution_count": 44,
     "metadata": {},
     "output_type": "execute_result"
    },
    {
     "data": {
      "image/png": "[encoded data removed]",
      "text/plain": [
       "<Figure size 432x288 with 1 Axes>"
      ]
     },
     "metadata": {
      "needs_background": "light"
     },
     "output_type": "display_data"
    }
   ],
   "source": [
    "# Plot between loss and val_loss\n",
    "\n",
    "history_imp_df[['loss', 'val_loss']].plot()"
   ]
  },
  {
   "cell_type": "markdown",
   "metadata": {},
   "source": [
    "Meskipun model ini fast learner, tapi accuracy nya `over-fit` dimana validation accuracy nya di bawah train accuracy nya."
   ]
  },
  {
   "cell_type": "code",
   "execution_count": 45,
   "metadata": {},
   "outputs": [
    {
     "name": "stdout",
     "output_type": "stream",
     "text": [
      "6/6 [==============================] - 0s 1ms/step\n",
      "              precision    recall  f1-score   support\n",
      "\n",
      "           0       0.98      0.98      0.98       131\n",
      "           1       0.90      0.93      0.92        30\n",
      "\n",
      "    accuracy                           0.97       161\n",
      "   macro avg       0.94      0.96      0.95       161\n",
      "weighted avg       0.97      0.97      0.97       161\n",
      "\n"
     ]
    }
   ],
   "source": [
    "# Model Evaluation using Classification Report\n",
    "\n",
    "y_pred_seq = model_imp.predict(X_test)\n",
    "y_pred_seq = np.where(y_pred_seq >= 0.5, 1, 0)\n",
    "\n",
    "print(classification_report(y_test, y_pred_seq))"
   ]
  },
  {
   "cell_type": "markdown",
   "metadata": {},
   "source": [
    "Highlight disini adalah Model mendapatkan :\n",
    "\n",
    "- Accuracy Score = `98%`\n",
    "- Serta di prediksi Non-Spam = `98%`\n",
    "- Di prediksi Spam = `93%`\n",
    "\n",
    "Menurun dari model pertama"
   ]
  },
  {
   "cell_type": "code",
   "execution_count": 46,
   "metadata": {},
   "outputs": [
    {
     "data": {
      "image/png": "[encoded data removed]",
      "text/plain": [
       "<Figure size 720x360 with 2 Axes>"
      ]
     },
     "metadata": {
      "needs_background": "light"
     },
     "output_type": "display_data"
    }
   ],
   "source": [
    "# Check Confusion Matrix\n",
    "\n",
    "cm = confusion_matrix(y_test, y_pred_seq)\n",
    "plt.figure(figsize=(10,5))\n",
    "sns.heatmap(cm,annot=True, cmap=\"Blues\", fmt=\"d\", \n",
    "            xticklabels = ['No Spam', 'Spam'], \n",
    "            yticklabels = ['No Spam', 'Spam'])\n",
    "plt.ylabel('True label')\n",
    "plt.xlabel('Predicted label')\n",
    "plt.title(\"Confusion Matrix - Sequential API Model Improvement\")\n",
    "plt.show()"
   ]
  },
  {
   "cell_type": "markdown",
   "metadata": {},
   "source": [
    "Dari total :\n",
    "\n",
    "- Non Spam = 131 total, ada 2 yang salah prediksi menjadi spam\n",
    "- Spam = 30 total, ada 2 yang salah prediksi menjadi non-spam\n",
    "\n",
    "Menurun dari model yang pertama, dimana salah prediksi true label non-spam hanya 1"
   ]
  },
  {
   "cell_type": "markdown",
   "metadata": {},
   "source": [
    "# 9. Model Saving"
   ]
  },
  {
   "cell_type": "code",
   "execution_count": 47,
   "metadata": {},
   "outputs": [],
   "source": [
    "# Freeze Best Model\n",
    "\n",
    "model.trainable = False"
   ]
  },
  {
   "cell_type": "code",
   "execution_count": 48,
   "metadata": {},
   "outputs": [
    {
     "name": "stdout",
     "output_type": "stream",
     "text": [
      "Model: \"sequential\"\n",
      "_________________________________________________________________\n",
      " Layer (type)                Output Shape              Param #   \n",
      "=================================================================\n",
      " text_vectorization (TextVec  (None, 49)               0         \n",
      " torization)                                                     \n",
      "                                                                 \n",
      " embedding (Embedding)       (None, 49, 172)           436708    \n",
      "                                                                 \n",
      " global_average_pooling1d (G  (None, 172)              0         \n",
      " lobalAveragePooling1D)                                          \n",
      "                                                                 \n",
      " dense (Dense)               (None, 32)                5536      \n",
      "                                                                 \n",
      " dense_1 (Dense)             (None, 1)                 33        \n",
      "                                                                 \n",
      "=================================================================\n",
      "Total params: 442,277\n",
      "Trainable params: 0\n",
      "Non-trainable params: 442,277\n",
      "_________________________________________________________________\n"
     ]
    }
   ],
   "source": [
    "# Best Model Summary\n",
    "\n",
    "model.summary()"
   ]
  },
  {
   "cell_type": "code",
   "execution_count": 49,
   "metadata": {},
   "outputs": [
    {
     "name": "stdout",
     "output_type": "stream",
     "text": [
      "INFO:tensorflow:Assets written to: spam_check_model/assets\n"
     ]
    }
   ],
   "source": [
    "model.save(\"spam_check_model\")"
   ]
  },
  {
   "cell_type": "code",
   "execution_count": 50,
   "metadata": {},
   "outputs": [
    {
     "name": "stdout",
     "output_type": "stream",
     "text": [
      "updating: spam_check_model/ (stored 0%)\n",
      "updating: spam_check_model/keras_metadata.pb (deflated 86%)\n",
      "updating: spam_check_model/variables/ (stored 0%)\n",
      "updating: spam_check_model/variables/variables.data-00000-of-00001 (deflated 12%)\n",
      "updating: spam_check_model/variables/variables.index (deflated 59%)\n",
      "updating: spam_check_model/saved_model.pb (deflated 85%)\n",
      "updating: spam_check_model/assets/ (stored 0%)\n"
     ]
    }
   ],
   "source": [
    "! zip -r spam_check_model.zip spam_check_model"
   ]
  },
  {
   "cell_type": "markdown",
   "metadata": {},
   "source": [
    "# 10. Model Inference"
   ]
  },
  {
   "cell_type": "code",
   "execution_count": 51,
   "metadata": {},
   "outputs": [
    {
     "data": {
      "text/html": [
       "<div>\n",
       "<style scoped>\n",
       "    .dataframe tbody tr th:only-of-type {\n",
       "        vertical-align: middle;\n",
       "    }\n",
       "\n",
       "    .dataframe tbody tr th {\n",
       "        vertical-align: top;\n",
       "    }\n",
       "\n",
       "    .dataframe thead th {\n",
       "        text-align: right;\n",
       "    }\n",
       "</style>\n",
       "<table border=\"1\" class=\"dataframe\">\n",
       "  <thead>\n",
       "    <tr style=\"text-align: right;\">\n",
       "      <th></th>\n",
       "      <th>Message_body</th>\n",
       "      <th>Label</th>\n",
       "    </tr>\n",
       "  </thead>\n",
       "  <tbody>\n",
       "    <tr>\n",
       "      <th>0</th>\n",
       "      <td>U attend ur driving lesson how many times a wk...</td>\n",
       "      <td>0</td>\n",
       "    </tr>\n",
       "    <tr>\n",
       "      <th>1</th>\n",
       "      <td>Arun can u transfr me d amt</td>\n",
       "      <td>0</td>\n",
       "    </tr>\n",
       "    <tr>\n",
       "      <th>2</th>\n",
       "      <td>I said its okay. Sorry</td>\n",
       "      <td>0</td>\n",
       "    </tr>\n",
       "    <tr>\n",
       "      <th>3</th>\n",
       "      <td>How much u trying to get?</td>\n",
       "      <td>0</td>\n",
       "    </tr>\n",
       "    <tr>\n",
       "      <th>4</th>\n",
       "      <td>Are u coming to the funeral home</td>\n",
       "      <td>0</td>\n",
       "    </tr>\n",
       "    <tr>\n",
       "      <th>5</th>\n",
       "      <td>So that takes away some money worries</td>\n",
       "      <td>0</td>\n",
       "    </tr>\n",
       "    <tr>\n",
       "      <th>6</th>\n",
       "      <td>After my work ah... Den 6 plus lor... U workin...</td>\n",
       "      <td>0</td>\n",
       "    </tr>\n",
       "    <tr>\n",
       "      <th>7</th>\n",
       "      <td>You have 1 new message. Call 0207-083-6089</td>\n",
       "      <td>1</td>\n",
       "    </tr>\n",
       "    <tr>\n",
       "      <th>8</th>\n",
       "      <td>Hi its me you are probably having too much fun...</td>\n",
       "      <td>0</td>\n",
       "    </tr>\n",
       "    <tr>\n",
       "      <th>9</th>\n",
       "      <td>Just sing HU. I think its also important to fi...</td>\n",
       "      <td>0</td>\n",
       "    </tr>\n",
       "  </tbody>\n",
       "</table>\n",
       "</div>"
      ],
      "text/plain": [
       "                                        Message_body  Label\n",
       "0  U attend ur driving lesson how many times a wk...      0\n",
       "1                        Arun can u transfr me d amt      0\n",
       "2                             I said its okay. Sorry      0\n",
       "3                          How much u trying to get?      0\n",
       "4                   Are u coming to the funeral home      0\n",
       "5              So that takes away some money worries      0\n",
       "6  After my work ah... Den 6 plus lor... U workin...      0\n",
       "7         You have 1 new message. Call 0207-083-6089      1\n",
       "8  Hi its me you are probably having too much fun...      0\n",
       "9  Just sing HU. I think its also important to fi...      0"
      ]
     },
     "execution_count": 51,
     "metadata": {},
     "output_type": "execute_result"
    }
   ],
   "source": [
    "# Display Inference-Set \n",
    "\n",
    "data_inf"
   ]
  },
  {
   "cell_type": "code",
   "execution_count": 52,
   "metadata": {},
   "outputs": [],
   "source": [
    "# A Function to use in the dataframe\n",
    "\n",
    "def text_process(text):\n",
    "\n",
    "  # 1. Change all text to Lowercase\n",
    "  text = text.lower()\n",
    "  \n",
    "  # 2. Removing Mentions\n",
    "  text = re.sub(\"@[A-Za-z0-9_]+\", \" \", text)\n",
    "  \n",
    "  # 3. Removing Hashtags\n",
    "  text = re.sub(\"#[A-Za-z0-9_]+\", \" \", text)\n",
    "  \n",
    "  # 4. Removing \\n\n",
    "  text = re.sub(r\"\\\\n\", \" \",text)\n",
    "  \n",
    "  # 5. Removing Whitespaces\n",
    "  text = text.strip()\n",
    "\n",
    "  # 6. Removing Links\n",
    "  text = re.sub(r\"http\\S+\", \" \", text)\n",
    "  text = re.sub(r\"www.\\S+\", \" \", text)\n",
    "\n",
    "  # 7. Removing non text characters such as Emojis, Mathematical symbols\n",
    "  text = re.sub(\"[^A-Za-z\\s']\", \" \", text)\n",
    "\n",
    "  # 8. Removing RT\n",
    "  text = re.sub(\"rt\", \" \",text)\n",
    "\n",
    "  # 9. Tokenization\n",
    "  tokens = word_tokenize(text)\n",
    "\n",
    "  # 10. Removing Stopwords\n",
    "  stopwords_en = list(set(stopwords.words('english')))\n",
    "  text = ' '.join([word for word in tokens if word not in stopwords_en])\n",
    "  \n",
    "  # 11. Stemming\n",
    "  stemmer = PorterStemmer()\n",
    "  text = stemmer.stem(text)\n",
    "  \n",
    "  return text"
   ]
  },
  {
   "cell_type": "code",
   "execution_count": 53,
   "metadata": {},
   "outputs": [
    {
     "data": {
      "text/html": [
       "<div>\n",
       "<style scoped>\n",
       "    .dataframe tbody tr th:only-of-type {\n",
       "        vertical-align: middle;\n",
       "    }\n",
       "\n",
       "    .dataframe tbody tr th {\n",
       "        vertical-align: top;\n",
       "    }\n",
       "\n",
       "    .dataframe thead th {\n",
       "        text-align: right;\n",
       "    }\n",
       "</style>\n",
       "<table border=\"1\" class=\"dataframe\">\n",
       "  <thead>\n",
       "    <tr style=\"text-align: right;\">\n",
       "      <th></th>\n",
       "      <th>Message_body</th>\n",
       "      <th>Label</th>\n",
       "      <th>Message_processed</th>\n",
       "    </tr>\n",
       "  </thead>\n",
       "  <tbody>\n",
       "    <tr>\n",
       "      <th>0</th>\n",
       "      <td>U attend ur driving lesson how many times a wk...</td>\n",
       "      <td>0</td>\n",
       "      <td>u attend ur driving lesson many times wk n day</td>\n",
       "    </tr>\n",
       "    <tr>\n",
       "      <th>1</th>\n",
       "      <td>Arun can u transfr me d amt</td>\n",
       "      <td>0</td>\n",
       "      <td>arun u transfr amt</td>\n",
       "    </tr>\n",
       "    <tr>\n",
       "      <th>2</th>\n",
       "      <td>I said its okay. Sorry</td>\n",
       "      <td>0</td>\n",
       "      <td>said okay sorri</td>\n",
       "    </tr>\n",
       "    <tr>\n",
       "      <th>3</th>\n",
       "      <td>How much u trying to get?</td>\n",
       "      <td>0</td>\n",
       "      <td>much u trying get</td>\n",
       "    </tr>\n",
       "    <tr>\n",
       "      <th>4</th>\n",
       "      <td>Are u coming to the funeral home</td>\n",
       "      <td>0</td>\n",
       "      <td>u coming funeral hom</td>\n",
       "    </tr>\n",
       "    <tr>\n",
       "      <th>5</th>\n",
       "      <td>So that takes away some money worries</td>\n",
       "      <td>0</td>\n",
       "      <td>takes away money worri</td>\n",
       "    </tr>\n",
       "    <tr>\n",
       "      <th>6</th>\n",
       "      <td>After my work ah... Den 6 plus lor... U workin...</td>\n",
       "      <td>0</td>\n",
       "      <td>work ah den plus lor u workin oso rite den go ...</td>\n",
       "    </tr>\n",
       "    <tr>\n",
       "      <th>7</th>\n",
       "      <td>You have 1 new message. Call 0207-083-6089</td>\n",
       "      <td>1</td>\n",
       "      <td>new message cal</td>\n",
       "    </tr>\n",
       "    <tr>\n",
       "      <th>8</th>\n",
       "      <td>Hi its me you are probably having too much fun...</td>\n",
       "      <td>0</td>\n",
       "      <td>hi probably much fun get message thought id tx...</td>\n",
       "    </tr>\n",
       "    <tr>\n",
       "      <th>9</th>\n",
       "      <td>Just sing HU. I think its also important to fi...</td>\n",
       "      <td>0</td>\n",
       "      <td>sing hu think also impo ant find someone femal...</td>\n",
       "    </tr>\n",
       "  </tbody>\n",
       "</table>\n",
       "</div>"
      ],
      "text/plain": [
       "                                        Message_body  Label  \\\n",
       "0  U attend ur driving lesson how many times a wk...      0   \n",
       "1                        Arun can u transfr me d amt      0   \n",
       "2                             I said its okay. Sorry      0   \n",
       "3                          How much u trying to get?      0   \n",
       "4                   Are u coming to the funeral home      0   \n",
       "5              So that takes away some money worries      0   \n",
       "6  After my work ah... Den 6 plus lor... U workin...      0   \n",
       "7         You have 1 new message. Call 0207-083-6089      1   \n",
       "8  Hi its me you are probably having too much fun...      0   \n",
       "9  Just sing HU. I think its also important to fi...      0   \n",
       "\n",
       "                                   Message_processed  \n",
       "0     u attend ur driving lesson many times wk n day  \n",
       "1                                 arun u transfr amt  \n",
       "2                                    said okay sorri  \n",
       "3                                  much u trying get  \n",
       "4                               u coming funeral hom  \n",
       "5                             takes away money worri  \n",
       "6  work ah den plus lor u workin oso rite den go ...  \n",
       "7                                    new message cal  \n",
       "8  hi probably much fun get message thought id tx...  \n",
       "9  sing hu think also impo ant find someone femal...  "
      ]
     },
     "execution_count": 53,
     "metadata": {},
     "output_type": "execute_result"
    }
   ],
   "source": [
    "# Applying Preprocessing to all Documents\n",
    "\n",
    "data_inf['Message_processed'] = data_inf['Message_body'].apply(lambda x: text_process(x))\n",
    "data_inf"
   ]
  },
  {
   "cell_type": "code",
   "execution_count": 54,
   "metadata": {},
   "outputs": [],
   "source": [
    "data_inf_x = data_inf['Message_processed']"
   ]
  },
  {
   "cell_type": "code",
   "execution_count": 55,
   "metadata": {},
   "outputs": [
    {
     "name": "stdout",
     "output_type": "stream",
     "text": [
      "1/1 [==============================] - 0s 12ms/step\n"
     ]
    },
    {
     "data": {
      "text/plain": [
       "array([[0],\n",
       "       [0],\n",
       "       [0],\n",
       "       [0],\n",
       "       [0],\n",
       "       [0],\n",
       "       [0],\n",
       "       [1],\n",
       "       [0],\n",
       "       [0]])"
      ]
     },
     "execution_count": 55,
     "metadata": {},
     "output_type": "execute_result"
    }
   ],
   "source": [
    "# Predict using Best Model & Change if >= 0.5 to 1\n",
    "\n",
    "y_pred_inf = model.predict(data_inf_x)\n",
    "y_pred_inf = np.where(y_pred_inf >= 0.5, 1, 0)\n",
    "y_pred_inf"
   ]
  },
  {
   "cell_type": "code",
   "execution_count": 56,
   "metadata": {},
   "outputs": [
    {
     "data": {
      "text/html": [
       "<div>\n",
       "<style scoped>\n",
       "    .dataframe tbody tr th:only-of-type {\n",
       "        vertical-align: middle;\n",
       "    }\n",
       "\n",
       "    .dataframe tbody tr th {\n",
       "        vertical-align: top;\n",
       "    }\n",
       "\n",
       "    .dataframe thead th {\n",
       "        text-align: right;\n",
       "    }\n",
       "</style>\n",
       "<table border=\"1\" class=\"dataframe\">\n",
       "  <thead>\n",
       "    <tr style=\"text-align: right;\">\n",
       "      <th></th>\n",
       "      <th>Label_Prediction</th>\n",
       "    </tr>\n",
       "  </thead>\n",
       "  <tbody>\n",
       "    <tr>\n",
       "      <th>0</th>\n",
       "      <td>0</td>\n",
       "    </tr>\n",
       "    <tr>\n",
       "      <th>1</th>\n",
       "      <td>0</td>\n",
       "    </tr>\n",
       "    <tr>\n",
       "      <th>2</th>\n",
       "      <td>0</td>\n",
       "    </tr>\n",
       "    <tr>\n",
       "      <th>3</th>\n",
       "      <td>0</td>\n",
       "    </tr>\n",
       "    <tr>\n",
       "      <th>4</th>\n",
       "      <td>0</td>\n",
       "    </tr>\n",
       "    <tr>\n",
       "      <th>5</th>\n",
       "      <td>0</td>\n",
       "    </tr>\n",
       "    <tr>\n",
       "      <th>6</th>\n",
       "      <td>0</td>\n",
       "    </tr>\n",
       "    <tr>\n",
       "      <th>7</th>\n",
       "      <td>1</td>\n",
       "    </tr>\n",
       "    <tr>\n",
       "      <th>8</th>\n",
       "      <td>0</td>\n",
       "    </tr>\n",
       "    <tr>\n",
       "      <th>9</th>\n",
       "      <td>0</td>\n",
       "    </tr>\n",
       "  </tbody>\n",
       "</table>\n",
       "</div>"
      ],
      "text/plain": [
       "   Label_Prediction\n",
       "0                 0\n",
       "1                 0\n",
       "2                 0\n",
       "3                 0\n",
       "4                 0\n",
       "5                 0\n",
       "6                 0\n",
       "7                 1\n",
       "8                 0\n",
       "9                 0"
      ]
     },
     "execution_count": 56,
     "metadata": {},
     "output_type": "execute_result"
    }
   ],
   "source": [
    "# Create DataFrame of Label Prediction using Best Model\n",
    "\n",
    "y_pred_inf_data = pd.DataFrame(y_pred_inf, columns=['Label_Prediction'])\n",
    "y_pred_inf_data"
   ]
  },
  {
   "cell_type": "code",
   "execution_count": 57,
   "metadata": {},
   "outputs": [
    {
     "data": {
      "text/html": [
       "<div>\n",
       "<style scoped>\n",
       "    .dataframe tbody tr th:only-of-type {\n",
       "        vertical-align: middle;\n",
       "    }\n",
       "\n",
       "    .dataframe tbody tr th {\n",
       "        vertical-align: top;\n",
       "    }\n",
       "\n",
       "    .dataframe thead th {\n",
       "        text-align: right;\n",
       "    }\n",
       "</style>\n",
       "<table border=\"1\" class=\"dataframe\">\n",
       "  <thead>\n",
       "    <tr style=\"text-align: right;\">\n",
       "      <th></th>\n",
       "      <th>Message_body</th>\n",
       "      <th>Label</th>\n",
       "      <th>Message_processed</th>\n",
       "      <th>Label_Prediction</th>\n",
       "    </tr>\n",
       "  </thead>\n",
       "  <tbody>\n",
       "    <tr>\n",
       "      <th>0</th>\n",
       "      <td>U attend ur driving lesson how many times a wk...</td>\n",
       "      <td>0</td>\n",
       "      <td>u attend ur driving lesson many times wk n day</td>\n",
       "      <td>0</td>\n",
       "    </tr>\n",
       "    <tr>\n",
       "      <th>1</th>\n",
       "      <td>Arun can u transfr me d amt</td>\n",
       "      <td>0</td>\n",
       "      <td>arun u transfr amt</td>\n",
       "      <td>0</td>\n",
       "    </tr>\n",
       "    <tr>\n",
       "      <th>2</th>\n",
       "      <td>I said its okay. Sorry</td>\n",
       "      <td>0</td>\n",
       "      <td>said okay sorri</td>\n",
       "      <td>0</td>\n",
       "    </tr>\n",
       "    <tr>\n",
       "      <th>3</th>\n",
       "      <td>How much u trying to get?</td>\n",
       "      <td>0</td>\n",
       "      <td>much u trying get</td>\n",
       "      <td>0</td>\n",
       "    </tr>\n",
       "    <tr>\n",
       "      <th>4</th>\n",
       "      <td>Are u coming to the funeral home</td>\n",
       "      <td>0</td>\n",
       "      <td>u coming funeral hom</td>\n",
       "      <td>0</td>\n",
       "    </tr>\n",
       "    <tr>\n",
       "      <th>5</th>\n",
       "      <td>So that takes away some money worries</td>\n",
       "      <td>0</td>\n",
       "      <td>takes away money worri</td>\n",
       "      <td>0</td>\n",
       "    </tr>\n",
       "    <tr>\n",
       "      <th>6</th>\n",
       "      <td>After my work ah... Den 6 plus lor... U workin...</td>\n",
       "      <td>0</td>\n",
       "      <td>work ah den plus lor u workin oso rite den go ...</td>\n",
       "      <td>0</td>\n",
       "    </tr>\n",
       "    <tr>\n",
       "      <th>7</th>\n",
       "      <td>You have 1 new message. Call 0207-083-6089</td>\n",
       "      <td>1</td>\n",
       "      <td>new message cal</td>\n",
       "      <td>1</td>\n",
       "    </tr>\n",
       "    <tr>\n",
       "      <th>8</th>\n",
       "      <td>Hi its me you are probably having too much fun...</td>\n",
       "      <td>0</td>\n",
       "      <td>hi probably much fun get message thought id tx...</td>\n",
       "      <td>0</td>\n",
       "    </tr>\n",
       "    <tr>\n",
       "      <th>9</th>\n",
       "      <td>Just sing HU. I think its also important to fi...</td>\n",
       "      <td>0</td>\n",
       "      <td>sing hu think also impo ant find someone femal...</td>\n",
       "      <td>0</td>\n",
       "    </tr>\n",
       "  </tbody>\n",
       "</table>\n",
       "</div>"
      ],
      "text/plain": [
       "                                        Message_body  Label  \\\n",
       "0  U attend ur driving lesson how many times a wk...      0   \n",
       "1                        Arun can u transfr me d amt      0   \n",
       "2                             I said its okay. Sorry      0   \n",
       "3                          How much u trying to get?      0   \n",
       "4                   Are u coming to the funeral home      0   \n",
       "5              So that takes away some money worries      0   \n",
       "6  After my work ah... Den 6 plus lor... U workin...      0   \n",
       "7         You have 1 new message. Call 0207-083-6089      1   \n",
       "8  Hi its me you are probably having too much fun...      0   \n",
       "9  Just sing HU. I think its also important to fi...      0   \n",
       "\n",
       "                                   Message_processed  Label_Prediction  \n",
       "0     u attend ur driving lesson many times wk n day                 0  \n",
       "1                                 arun u transfr amt                 0  \n",
       "2                                    said okay sorri                 0  \n",
       "3                                  much u trying get                 0  \n",
       "4                               u coming funeral hom                 0  \n",
       "5                             takes away money worri                 0  \n",
       "6  work ah den plus lor u workin oso rite den go ...                 0  \n",
       "7                                    new message cal                 1  \n",
       "8  hi probably much fun get message thought id tx...                 0  \n",
       "9  sing hu think also impo ant find someone femal...                 0  "
      ]
     },
     "execution_count": 57,
     "metadata": {},
     "output_type": "execute_result"
    }
   ],
   "source": [
    "# Concate between Inference-Set and Label's Prediction Best Model\n",
    "\n",
    "data_inf = pd.concat([data_inf, y_pred_inf_data], axis=1)\n",
    "data_inf"
   ]
  },
  {
   "cell_type": "markdown",
   "metadata": {},
   "source": [
    "Tidak ada salah prediksi dari keseluruhan sample."
   ]
  },
  {
   "cell_type": "markdown",
   "metadata": {},
   "source": [
    "# 11. Pengambilan Kesimpulan"
   ]
  },
  {
   "cell_type": "markdown",
   "metadata": {},
   "source": [
    "Di jaman era teknologi sekarang, kebanyakan orang sudah mengirimkan promosi ataupun ads ataupun text melalui email. Namun ada beberapa yang spam email, dan sangat mengganggu inbox email. Model ini dibuat untuk mengklasifikasikan apakah email itu spam atau tidak, jadi kita tidak perlu menghabiskan waktu di email tersebut. Dan tidak terjerumus ke pishing email."
   ]
  },
  {
   "cell_type": "markdown",
   "metadata": {},
   "source": [
    "Dengan menggunakan model yang telah saya buat. Best modelnya yaitu Baseline Model, mendapatkan tingkat sebagai berikut :\n",
    "\n",
    "- Accuracy Score : `98%`\n",
    "- True Label 0 : `99%`\n",
    "- True Label 1 : `95%`\n",
    "\n",
    "dan di sample testing tidak ada salah prediksi dari keseluruhan meskipun kata-kata sudah dilakukan preprocessing, model dapat secara benar memprediksi label nya masing-masing."
   ]
  }
 ],
 "metadata": {
  "kernelspec": {
   "display_name": "Python 3.10.6 64-bit",
   "language": "python",
   "name": "python3"
  },
  "language_info": {
   "codemirror_mode": {
    "name": "ipython",
    "version": 3
   },
   "file_extension": ".py",
   "mimetype": "text/x-python",
   "name": "python",
   "nbconvert_exporter": "python",
   "pygments_lexer": "ipython3",
   "version": "3.10.6"
  },
  "orig_nbformat": 4,
  "vscode": {
   "interpreter": {
    "hash": "aee8b7b246df8f9039afb4144a1f6fd8d2ca17a180786b69acc140d282b71a49"
   }
  }
 },
 "nbformat": 4,
 "nbformat_minor": 2
}
